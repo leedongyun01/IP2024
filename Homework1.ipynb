{
 "cells": [
  {
   "cell_type": "markdown",
   "metadata": {},
   "source": [
    "# Homework 1"
   ]
  },
  {
   "cell_type": "code",
   "execution_count": 2,
   "metadata": {},
   "outputs": [],
   "source": [
    "import cv2\n",
    "import numpy as np"
   ]
  },
  {
   "cell_type": "code",
   "execution_count": 41,
   "metadata": {},
   "outputs": [],
   "source": [
    "drawing = False\n",
    "ix, iy = -1, -1\n",
    "font = cv2.FONT_HERSHEY_SIMPLEX\n",
    "\n",
    "def draw_rect(event,x,y,flags, param):\n",
    "    global ix, iy, drawing, img, img2\n",
    "    \n",
    "    if event == cv2.EVENT_LBUTTONDOWN:\n",
    "        img = cv2.imread('messi5.jpg')\n",
    "        drawing = True\n",
    "        ix, iy = x, y\n",
    "    \n",
    "    elif event == cv2.EVENT_MOUSEMOVE:\n",
    "        if drawing == True:\n",
    "            img = cv2.imread('messi5.jpg')\n",
    "            cv2.putText(img,'Mouse position' + '(' + str(ix) + ',' + str(x) + ') ' + '(' + str(iy) + ',' + str(y) + ')' ,(20,30), font, 0.7,(255,255,255),1,cv2.LINE_AA)\n",
    "            cv2.rectangle(img, (ix, iy), (x,y), (0,0,255), 0)\n",
    "            img[iy:y,ix:x,2] = 255\n",
    "\n",
    "    elif event == cv2.EVENT_LBUTTONUP:\n",
    "        drawing = False\n"
   ]
  },
  {
   "cell_type": "code",
   "execution_count": 42,
   "metadata": {},
   "outputs": [],
   "source": [
    "\n",
    "img = cv2.imread('messi5.jpg')\n",
    "cv2.namedWindow('image')\n",
    "cv2.setMouseCallback('image',draw_rect)\n",
    "\n",
    "while(1):\n",
    "    cv2.imshow('image',img)\n",
    "    if cv2.waitKey(20)&0xFF==27:\n",
    "        break\n",
    "cv2.destroyAllWindows()"
   ]
  },
  {
   "cell_type": "code",
   "execution_count": 15,
   "metadata": {},
   "outputs": [
    {
     "name": "stdout",
     "output_type": "stream",
     "text": [
      "(360, 643, 3)\n"
     ]
    }
   ],
   "source": [
    "print(img.shape)"
   ]
  },
  {
   "cell_type": "code",
   "execution_count": null,
   "metadata": {},
   "outputs": [],
   "source": []
  }
 ],
 "metadata": {
  "kernelspec": {
   "display_name": "IP2024",
   "language": "python",
   "name": "python3"
  },
  "language_info": {
   "codemirror_mode": {
    "name": "ipython",
    "version": 3
   },
   "file_extension": ".py",
   "mimetype": "text/x-python",
   "name": "python",
   "nbconvert_exporter": "python",
   "pygments_lexer": "ipython3",
   "version": "3.8.19"
  }
 },
 "nbformat": 4,
 "nbformat_minor": 2
}
