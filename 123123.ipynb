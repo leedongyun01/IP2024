{
 "cells": [
  {
   "cell_type": "markdown",
   "metadata": {},
   "source": [
    "## Homework 1"
   ]
  },
  {
   "cell_type": "code",
   "execution_count": 1,
   "metadata": {},
   "outputs": [],
   "source": [
    "import cv2\n",
    "import numpy as np"
   ]
  },
  {
   "cell_type": "code",
   "execution_count": 4,
   "metadata": {},
   "outputs": [],
   "source": [
    "drawing=False#trueifmouseispressed\n",
    "mode= True#ifTrue,drawrectangle.Press'm'totoggletocurve\n",
    "ix,iy=-1,-1\n",
    "font = cv2.FONT_HERSHEY_SIMPLEX\n",
    "\n",
    "#mousecallbackfunction\n",
    "def draw_circle(event,x,y,flags,param):\n",
    "    global ix,iy,drawing,mode\n",
    "    \n",
    "    if event==cv2.EVENT_LBUTTONDOWN:\n",
    "        drawing=True\n",
    "        ix,iy=x,y\n",
    "    elif event==cv2.EVENT_MOUSEMOVE:\n",
    "        cv2.putText(img,'Mouse Position'+ix+' ,'+iy,(10,50), font, 1,(255,255,255),0.7,cv2.LINE_AA)\n",
    "        if drawing==True:\n",
    "            if mode== True:\n",
    "                cv2.rectangle(img,(ix,iy),(x,y),(0,255,0),-1)\n",
    "            else:\n",
    "                cv2.circle(img,(x,y),5,(0,0,255),-1)\n",
    "    elif event==cv2.EVENT_LBUTTONUP:\n",
    "        drawing=False\n",
    "        if mode== True:\n",
    "            cv2.rectangle(img,(ix,iy),(x,y),(0,255,0),-1)\n",
    "        else:\n",
    "            cv2.circle(img,(x,y),5,(0,0,255),-1)"
   ]
  },
  {
   "cell_type": "code",
   "execution_count": 5,
   "metadata": {},
   "outputs": [
    {
     "ename": "TypeError",
     "evalue": "can only concatenate str (not \"int\") to str",
     "output_type": "error",
     "traceback": [
      "\u001b[1;31m---------------------------------------------------------------------------\u001b[0m",
      "\u001b[1;31mTypeError\u001b[0m                                 Traceback (most recent call last)",
      "Cell \u001b[1;32mIn[4], line 14\u001b[0m, in \u001b[0;36mdraw_circle\u001b[1;34m(event, x, y, flags, param)\u001b[0m\n\u001b[0;32m     12\u001b[0m     ix,iy\u001b[38;5;241m=\u001b[39mx,y\n\u001b[0;32m     13\u001b[0m \u001b[38;5;28;01melif\u001b[39;00m event\u001b[38;5;241m==\u001b[39mcv2\u001b[38;5;241m.\u001b[39mEVENT_MOUSEMOVE:\n\u001b[1;32m---> 14\u001b[0m     cv2\u001b[38;5;241m.\u001b[39mputText(img,\u001b[38;5;124;43m'\u001b[39;49m\u001b[38;5;124;43mMouse Position\u001b[39;49m\u001b[38;5;124;43m'\u001b[39;49m\u001b[38;5;241;43m+\u001b[39;49m\u001b[43mix\u001b[49m\u001b[38;5;241m+\u001b[39m\u001b[38;5;124m'\u001b[39m\u001b[38;5;124m ,\u001b[39m\u001b[38;5;124m'\u001b[39m\u001b[38;5;241m+\u001b[39miy,(\u001b[38;5;241m10\u001b[39m,\u001b[38;5;241m50\u001b[39m), font, \u001b[38;5;241m1\u001b[39m,(\u001b[38;5;241m255\u001b[39m,\u001b[38;5;241m255\u001b[39m,\u001b[38;5;241m255\u001b[39m),\u001b[38;5;241m0.7\u001b[39m,cv2\u001b[38;5;241m.\u001b[39mLINE_AA)\n\u001b[0;32m     15\u001b[0m     \u001b[38;5;28;01mif\u001b[39;00m drawing\u001b[38;5;241m==\u001b[39m\u001b[38;5;28;01mTrue\u001b[39;00m:\n\u001b[0;32m     16\u001b[0m         \u001b[38;5;28;01mif\u001b[39;00m mode\u001b[38;5;241m==\u001b[39m \u001b[38;5;28;01mTrue\u001b[39;00m:\n",
      "\u001b[1;31mTypeError\u001b[0m: can only concatenate str (not \"int\") to str"
     ]
    },
    {
     "ename": "TypeError",
     "evalue": "can only concatenate str (not \"int\") to str",
     "output_type": "error",
     "traceback": [
      "\u001b[1;31m---------------------------------------------------------------------------\u001b[0m",
      "\u001b[1;31mTypeError\u001b[0m                                 Traceback (most recent call last)",
      "Cell \u001b[1;32mIn[4], line 14\u001b[0m, in \u001b[0;36mdraw_circle\u001b[1;34m(event, x, y, flags, param)\u001b[0m\n\u001b[0;32m     12\u001b[0m     ix,iy\u001b[38;5;241m=\u001b[39mx,y\n\u001b[0;32m     13\u001b[0m \u001b[38;5;28;01melif\u001b[39;00m event\u001b[38;5;241m==\u001b[39mcv2\u001b[38;5;241m.\u001b[39mEVENT_MOUSEMOVE:\n\u001b[1;32m---> 14\u001b[0m     cv2\u001b[38;5;241m.\u001b[39mputText(img,\u001b[38;5;124;43m'\u001b[39;49m\u001b[38;5;124;43mMouse Position\u001b[39;49m\u001b[38;5;124;43m'\u001b[39;49m\u001b[38;5;241;43m+\u001b[39;49m\u001b[43mix\u001b[49m\u001b[38;5;241m+\u001b[39m\u001b[38;5;124m'\u001b[39m\u001b[38;5;124m ,\u001b[39m\u001b[38;5;124m'\u001b[39m\u001b[38;5;241m+\u001b[39miy,(\u001b[38;5;241m10\u001b[39m,\u001b[38;5;241m50\u001b[39m), font, \u001b[38;5;241m1\u001b[39m,(\u001b[38;5;241m255\u001b[39m,\u001b[38;5;241m255\u001b[39m,\u001b[38;5;241m255\u001b[39m),\u001b[38;5;241m0.7\u001b[39m,cv2\u001b[38;5;241m.\u001b[39mLINE_AA)\n\u001b[0;32m     15\u001b[0m     \u001b[38;5;28;01mif\u001b[39;00m drawing\u001b[38;5;241m==\u001b[39m\u001b[38;5;28;01mTrue\u001b[39;00m:\n\u001b[0;32m     16\u001b[0m         \u001b[38;5;28;01mif\u001b[39;00m mode\u001b[38;5;241m==\u001b[39m \u001b[38;5;28;01mTrue\u001b[39;00m:\n",
      "\u001b[1;31mTypeError\u001b[0m: can only concatenate str (not \"int\") to str"
     ]
    },
    {
     "ename": "TypeError",
     "evalue": "can only concatenate str (not \"int\") to str",
     "output_type": "error",
     "traceback": [
      "\u001b[1;31m---------------------------------------------------------------------------\u001b[0m",
      "\u001b[1;31mTypeError\u001b[0m                                 Traceback (most recent call last)",
      "Cell \u001b[1;32mIn[4], line 14\u001b[0m, in \u001b[0;36mdraw_circle\u001b[1;34m(event, x, y, flags, param)\u001b[0m\n\u001b[0;32m     12\u001b[0m     ix,iy\u001b[38;5;241m=\u001b[39mx,y\n\u001b[0;32m     13\u001b[0m \u001b[38;5;28;01melif\u001b[39;00m event\u001b[38;5;241m==\u001b[39mcv2\u001b[38;5;241m.\u001b[39mEVENT_MOUSEMOVE:\n\u001b[1;32m---> 14\u001b[0m     cv2\u001b[38;5;241m.\u001b[39mputText(img,\u001b[38;5;124;43m'\u001b[39;49m\u001b[38;5;124;43mMouse Position\u001b[39;49m\u001b[38;5;124;43m'\u001b[39;49m\u001b[38;5;241;43m+\u001b[39;49m\u001b[43mix\u001b[49m\u001b[38;5;241m+\u001b[39m\u001b[38;5;124m'\u001b[39m\u001b[38;5;124m ,\u001b[39m\u001b[38;5;124m'\u001b[39m\u001b[38;5;241m+\u001b[39miy,(\u001b[38;5;241m10\u001b[39m,\u001b[38;5;241m50\u001b[39m), font, \u001b[38;5;241m1\u001b[39m,(\u001b[38;5;241m255\u001b[39m,\u001b[38;5;241m255\u001b[39m,\u001b[38;5;241m255\u001b[39m),\u001b[38;5;241m0.7\u001b[39m,cv2\u001b[38;5;241m.\u001b[39mLINE_AA)\n\u001b[0;32m     15\u001b[0m     \u001b[38;5;28;01mif\u001b[39;00m drawing\u001b[38;5;241m==\u001b[39m\u001b[38;5;28;01mTrue\u001b[39;00m:\n\u001b[0;32m     16\u001b[0m         \u001b[38;5;28;01mif\u001b[39;00m mode\u001b[38;5;241m==\u001b[39m \u001b[38;5;28;01mTrue\u001b[39;00m:\n",
      "\u001b[1;31mTypeError\u001b[0m: can only concatenate str (not \"int\") to str"
     ]
    },
    {
     "ename": "TypeError",
     "evalue": "can only concatenate str (not \"int\") to str",
     "output_type": "error",
     "traceback": [
      "\u001b[1;31m---------------------------------------------------------------------------\u001b[0m",
      "\u001b[1;31mTypeError\u001b[0m                                 Traceback (most recent call last)",
      "Cell \u001b[1;32mIn[4], line 14\u001b[0m, in \u001b[0;36mdraw_circle\u001b[1;34m(event, x, y, flags, param)\u001b[0m\n\u001b[0;32m     12\u001b[0m     ix,iy\u001b[38;5;241m=\u001b[39mx,y\n\u001b[0;32m     13\u001b[0m \u001b[38;5;28;01melif\u001b[39;00m event\u001b[38;5;241m==\u001b[39mcv2\u001b[38;5;241m.\u001b[39mEVENT_MOUSEMOVE:\n\u001b[1;32m---> 14\u001b[0m     cv2\u001b[38;5;241m.\u001b[39mputText(img,\u001b[38;5;124;43m'\u001b[39;49m\u001b[38;5;124;43mMouse Position\u001b[39;49m\u001b[38;5;124;43m'\u001b[39;49m\u001b[38;5;241;43m+\u001b[39;49m\u001b[43mix\u001b[49m\u001b[38;5;241m+\u001b[39m\u001b[38;5;124m'\u001b[39m\u001b[38;5;124m ,\u001b[39m\u001b[38;5;124m'\u001b[39m\u001b[38;5;241m+\u001b[39miy,(\u001b[38;5;241m10\u001b[39m,\u001b[38;5;241m50\u001b[39m), font, \u001b[38;5;241m1\u001b[39m,(\u001b[38;5;241m255\u001b[39m,\u001b[38;5;241m255\u001b[39m,\u001b[38;5;241m255\u001b[39m),\u001b[38;5;241m0.7\u001b[39m,cv2\u001b[38;5;241m.\u001b[39mLINE_AA)\n\u001b[0;32m     15\u001b[0m     \u001b[38;5;28;01mif\u001b[39;00m drawing\u001b[38;5;241m==\u001b[39m\u001b[38;5;28;01mTrue\u001b[39;00m:\n\u001b[0;32m     16\u001b[0m         \u001b[38;5;28;01mif\u001b[39;00m mode\u001b[38;5;241m==\u001b[39m \u001b[38;5;28;01mTrue\u001b[39;00m:\n",
      "\u001b[1;31mTypeError\u001b[0m: can only concatenate str (not \"int\") to str"
     ]
    },
    {
     "ename": "TypeError",
     "evalue": "can only concatenate str (not \"int\") to str",
     "output_type": "error",
     "traceback": [
      "\u001b[1;31m---------------------------------------------------------------------------\u001b[0m",
      "\u001b[1;31mTypeError\u001b[0m                                 Traceback (most recent call last)",
      "Cell \u001b[1;32mIn[4], line 14\u001b[0m, in \u001b[0;36mdraw_circle\u001b[1;34m(event, x, y, flags, param)\u001b[0m\n\u001b[0;32m     12\u001b[0m     ix,iy\u001b[38;5;241m=\u001b[39mx,y\n\u001b[0;32m     13\u001b[0m \u001b[38;5;28;01melif\u001b[39;00m event\u001b[38;5;241m==\u001b[39mcv2\u001b[38;5;241m.\u001b[39mEVENT_MOUSEMOVE:\n\u001b[1;32m---> 14\u001b[0m     cv2\u001b[38;5;241m.\u001b[39mputText(img,\u001b[38;5;124;43m'\u001b[39;49m\u001b[38;5;124;43mMouse Position\u001b[39;49m\u001b[38;5;124;43m'\u001b[39;49m\u001b[38;5;241;43m+\u001b[39;49m\u001b[43mix\u001b[49m\u001b[38;5;241m+\u001b[39m\u001b[38;5;124m'\u001b[39m\u001b[38;5;124m ,\u001b[39m\u001b[38;5;124m'\u001b[39m\u001b[38;5;241m+\u001b[39miy,(\u001b[38;5;241m10\u001b[39m,\u001b[38;5;241m50\u001b[39m), font, \u001b[38;5;241m1\u001b[39m,(\u001b[38;5;241m255\u001b[39m,\u001b[38;5;241m255\u001b[39m,\u001b[38;5;241m255\u001b[39m),\u001b[38;5;241m0.7\u001b[39m,cv2\u001b[38;5;241m.\u001b[39mLINE_AA)\n\u001b[0;32m     15\u001b[0m     \u001b[38;5;28;01mif\u001b[39;00m drawing\u001b[38;5;241m==\u001b[39m\u001b[38;5;28;01mTrue\u001b[39;00m:\n\u001b[0;32m     16\u001b[0m         \u001b[38;5;28;01mif\u001b[39;00m mode\u001b[38;5;241m==\u001b[39m \u001b[38;5;28;01mTrue\u001b[39;00m:\n",
      "\u001b[1;31mTypeError\u001b[0m: can only concatenate str (not \"int\") to str"
     ]
    },
    {
     "ename": "TypeError",
     "evalue": "can only concatenate str (not \"int\") to str",
     "output_type": "error",
     "traceback": [
      "\u001b[1;31m---------------------------------------------------------------------------\u001b[0m",
      "\u001b[1;31mTypeError\u001b[0m                                 Traceback (most recent call last)",
      "Cell \u001b[1;32mIn[4], line 14\u001b[0m, in \u001b[0;36mdraw_circle\u001b[1;34m(event, x, y, flags, param)\u001b[0m\n\u001b[0;32m     12\u001b[0m     ix,iy\u001b[38;5;241m=\u001b[39mx,y\n\u001b[0;32m     13\u001b[0m \u001b[38;5;28;01melif\u001b[39;00m event\u001b[38;5;241m==\u001b[39mcv2\u001b[38;5;241m.\u001b[39mEVENT_MOUSEMOVE:\n\u001b[1;32m---> 14\u001b[0m     cv2\u001b[38;5;241m.\u001b[39mputText(img,\u001b[38;5;124;43m'\u001b[39;49m\u001b[38;5;124;43mMouse Position\u001b[39;49m\u001b[38;5;124;43m'\u001b[39;49m\u001b[38;5;241;43m+\u001b[39;49m\u001b[43mix\u001b[49m\u001b[38;5;241m+\u001b[39m\u001b[38;5;124m'\u001b[39m\u001b[38;5;124m ,\u001b[39m\u001b[38;5;124m'\u001b[39m\u001b[38;5;241m+\u001b[39miy,(\u001b[38;5;241m10\u001b[39m,\u001b[38;5;241m50\u001b[39m), font, \u001b[38;5;241m1\u001b[39m,(\u001b[38;5;241m255\u001b[39m,\u001b[38;5;241m255\u001b[39m,\u001b[38;5;241m255\u001b[39m),\u001b[38;5;241m0.7\u001b[39m,cv2\u001b[38;5;241m.\u001b[39mLINE_AA)\n\u001b[0;32m     15\u001b[0m     \u001b[38;5;28;01mif\u001b[39;00m drawing\u001b[38;5;241m==\u001b[39m\u001b[38;5;28;01mTrue\u001b[39;00m:\n\u001b[0;32m     16\u001b[0m         \u001b[38;5;28;01mif\u001b[39;00m mode\u001b[38;5;241m==\u001b[39m \u001b[38;5;28;01mTrue\u001b[39;00m:\n",
      "\u001b[1;31mTypeError\u001b[0m: can only concatenate str (not \"int\") to str"
     ]
    },
    {
     "ename": "TypeError",
     "evalue": "can only concatenate str (not \"int\") to str",
     "output_type": "error",
     "traceback": [
      "\u001b[1;31m---------------------------------------------------------------------------\u001b[0m",
      "\u001b[1;31mTypeError\u001b[0m                                 Traceback (most recent call last)",
      "Cell \u001b[1;32mIn[4], line 14\u001b[0m, in \u001b[0;36mdraw_circle\u001b[1;34m(event, x, y, flags, param)\u001b[0m\n\u001b[0;32m     12\u001b[0m     ix,iy\u001b[38;5;241m=\u001b[39mx,y\n\u001b[0;32m     13\u001b[0m \u001b[38;5;28;01melif\u001b[39;00m event\u001b[38;5;241m==\u001b[39mcv2\u001b[38;5;241m.\u001b[39mEVENT_MOUSEMOVE:\n\u001b[1;32m---> 14\u001b[0m     cv2\u001b[38;5;241m.\u001b[39mputText(img,\u001b[38;5;124;43m'\u001b[39;49m\u001b[38;5;124;43mMouse Position\u001b[39;49m\u001b[38;5;124;43m'\u001b[39;49m\u001b[38;5;241;43m+\u001b[39;49m\u001b[43mix\u001b[49m\u001b[38;5;241m+\u001b[39m\u001b[38;5;124m'\u001b[39m\u001b[38;5;124m ,\u001b[39m\u001b[38;5;124m'\u001b[39m\u001b[38;5;241m+\u001b[39miy,(\u001b[38;5;241m10\u001b[39m,\u001b[38;5;241m50\u001b[39m), font, \u001b[38;5;241m1\u001b[39m,(\u001b[38;5;241m255\u001b[39m,\u001b[38;5;241m255\u001b[39m,\u001b[38;5;241m255\u001b[39m),\u001b[38;5;241m0.7\u001b[39m,cv2\u001b[38;5;241m.\u001b[39mLINE_AA)\n\u001b[0;32m     15\u001b[0m     \u001b[38;5;28;01mif\u001b[39;00m drawing\u001b[38;5;241m==\u001b[39m\u001b[38;5;28;01mTrue\u001b[39;00m:\n\u001b[0;32m     16\u001b[0m         \u001b[38;5;28;01mif\u001b[39;00m mode\u001b[38;5;241m==\u001b[39m \u001b[38;5;28;01mTrue\u001b[39;00m:\n",
      "\u001b[1;31mTypeError\u001b[0m: can only concatenate str (not \"int\") to str"
     ]
    },
    {
     "ename": "TypeError",
     "evalue": "can only concatenate str (not \"int\") to str",
     "output_type": "error",
     "traceback": [
      "\u001b[1;31m---------------------------------------------------------------------------\u001b[0m",
      "\u001b[1;31mTypeError\u001b[0m                                 Traceback (most recent call last)",
      "Cell \u001b[1;32mIn[4], line 14\u001b[0m, in \u001b[0;36mdraw_circle\u001b[1;34m(event, x, y, flags, param)\u001b[0m\n\u001b[0;32m     12\u001b[0m     ix,iy\u001b[38;5;241m=\u001b[39mx,y\n\u001b[0;32m     13\u001b[0m \u001b[38;5;28;01melif\u001b[39;00m event\u001b[38;5;241m==\u001b[39mcv2\u001b[38;5;241m.\u001b[39mEVENT_MOUSEMOVE:\n\u001b[1;32m---> 14\u001b[0m     cv2\u001b[38;5;241m.\u001b[39mputText(img,\u001b[38;5;124;43m'\u001b[39;49m\u001b[38;5;124;43mMouse Position\u001b[39;49m\u001b[38;5;124;43m'\u001b[39;49m\u001b[38;5;241;43m+\u001b[39;49m\u001b[43mix\u001b[49m\u001b[38;5;241m+\u001b[39m\u001b[38;5;124m'\u001b[39m\u001b[38;5;124m ,\u001b[39m\u001b[38;5;124m'\u001b[39m\u001b[38;5;241m+\u001b[39miy,(\u001b[38;5;241m10\u001b[39m,\u001b[38;5;241m50\u001b[39m), font, \u001b[38;5;241m1\u001b[39m,(\u001b[38;5;241m255\u001b[39m,\u001b[38;5;241m255\u001b[39m,\u001b[38;5;241m255\u001b[39m),\u001b[38;5;241m0.7\u001b[39m,cv2\u001b[38;5;241m.\u001b[39mLINE_AA)\n\u001b[0;32m     15\u001b[0m     \u001b[38;5;28;01mif\u001b[39;00m drawing\u001b[38;5;241m==\u001b[39m\u001b[38;5;28;01mTrue\u001b[39;00m:\n\u001b[0;32m     16\u001b[0m         \u001b[38;5;28;01mif\u001b[39;00m mode\u001b[38;5;241m==\u001b[39m \u001b[38;5;28;01mTrue\u001b[39;00m:\n",
      "\u001b[1;31mTypeError\u001b[0m: can only concatenate str (not \"int\") to str"
     ]
    },
    {
     "ename": "TypeError",
     "evalue": "can only concatenate str (not \"int\") to str",
     "output_type": "error",
     "traceback": [
      "\u001b[1;31m---------------------------------------------------------------------------\u001b[0m",
      "\u001b[1;31mTypeError\u001b[0m                                 Traceback (most recent call last)",
      "Cell \u001b[1;32mIn[4], line 14\u001b[0m, in \u001b[0;36mdraw_circle\u001b[1;34m(event, x, y, flags, param)\u001b[0m\n\u001b[0;32m     12\u001b[0m     ix,iy\u001b[38;5;241m=\u001b[39mx,y\n\u001b[0;32m     13\u001b[0m \u001b[38;5;28;01melif\u001b[39;00m event\u001b[38;5;241m==\u001b[39mcv2\u001b[38;5;241m.\u001b[39mEVENT_MOUSEMOVE:\n\u001b[1;32m---> 14\u001b[0m     cv2\u001b[38;5;241m.\u001b[39mputText(img,\u001b[38;5;124;43m'\u001b[39;49m\u001b[38;5;124;43mMouse Position\u001b[39;49m\u001b[38;5;124;43m'\u001b[39;49m\u001b[38;5;241;43m+\u001b[39;49m\u001b[43mix\u001b[49m\u001b[38;5;241m+\u001b[39m\u001b[38;5;124m'\u001b[39m\u001b[38;5;124m ,\u001b[39m\u001b[38;5;124m'\u001b[39m\u001b[38;5;241m+\u001b[39miy,(\u001b[38;5;241m10\u001b[39m,\u001b[38;5;241m50\u001b[39m), font, \u001b[38;5;241m1\u001b[39m,(\u001b[38;5;241m255\u001b[39m,\u001b[38;5;241m255\u001b[39m,\u001b[38;5;241m255\u001b[39m),\u001b[38;5;241m0.7\u001b[39m,cv2\u001b[38;5;241m.\u001b[39mLINE_AA)\n\u001b[0;32m     15\u001b[0m     \u001b[38;5;28;01mif\u001b[39;00m drawing\u001b[38;5;241m==\u001b[39m\u001b[38;5;28;01mTrue\u001b[39;00m:\n\u001b[0;32m     16\u001b[0m         \u001b[38;5;28;01mif\u001b[39;00m mode\u001b[38;5;241m==\u001b[39m \u001b[38;5;28;01mTrue\u001b[39;00m:\n",
      "\u001b[1;31mTypeError\u001b[0m: can only concatenate str (not \"int\") to str"
     ]
    },
    {
     "ename": "TypeError",
     "evalue": "can only concatenate str (not \"int\") to str",
     "output_type": "error",
     "traceback": [
      "\u001b[1;31m---------------------------------------------------------------------------\u001b[0m",
      "\u001b[1;31mTypeError\u001b[0m                                 Traceback (most recent call last)",
      "Cell \u001b[1;32mIn[4], line 14\u001b[0m, in \u001b[0;36mdraw_circle\u001b[1;34m(event, x, y, flags, param)\u001b[0m\n\u001b[0;32m     12\u001b[0m     ix,iy\u001b[38;5;241m=\u001b[39mx,y\n\u001b[0;32m     13\u001b[0m \u001b[38;5;28;01melif\u001b[39;00m event\u001b[38;5;241m==\u001b[39mcv2\u001b[38;5;241m.\u001b[39mEVENT_MOUSEMOVE:\n\u001b[1;32m---> 14\u001b[0m     cv2\u001b[38;5;241m.\u001b[39mputText(img,\u001b[38;5;124;43m'\u001b[39;49m\u001b[38;5;124;43mMouse Position\u001b[39;49m\u001b[38;5;124;43m'\u001b[39;49m\u001b[38;5;241;43m+\u001b[39;49m\u001b[43mix\u001b[49m\u001b[38;5;241m+\u001b[39m\u001b[38;5;124m'\u001b[39m\u001b[38;5;124m ,\u001b[39m\u001b[38;5;124m'\u001b[39m\u001b[38;5;241m+\u001b[39miy,(\u001b[38;5;241m10\u001b[39m,\u001b[38;5;241m50\u001b[39m), font, \u001b[38;5;241m1\u001b[39m,(\u001b[38;5;241m255\u001b[39m,\u001b[38;5;241m255\u001b[39m,\u001b[38;5;241m255\u001b[39m),\u001b[38;5;241m0.7\u001b[39m,cv2\u001b[38;5;241m.\u001b[39mLINE_AA)\n\u001b[0;32m     15\u001b[0m     \u001b[38;5;28;01mif\u001b[39;00m drawing\u001b[38;5;241m==\u001b[39m\u001b[38;5;28;01mTrue\u001b[39;00m:\n\u001b[0;32m     16\u001b[0m         \u001b[38;5;28;01mif\u001b[39;00m mode\u001b[38;5;241m==\u001b[39m \u001b[38;5;28;01mTrue\u001b[39;00m:\n",
      "\u001b[1;31mTypeError\u001b[0m: can only concatenate str (not \"int\") to str"
     ]
    },
    {
     "ename": "TypeError",
     "evalue": "can only concatenate str (not \"int\") to str",
     "output_type": "error",
     "traceback": [
      "\u001b[1;31m---------------------------------------------------------------------------\u001b[0m",
      "\u001b[1;31mTypeError\u001b[0m                                 Traceback (most recent call last)",
      "Cell \u001b[1;32mIn[4], line 14\u001b[0m, in \u001b[0;36mdraw_circle\u001b[1;34m(event, x, y, flags, param)\u001b[0m\n\u001b[0;32m     12\u001b[0m     ix,iy\u001b[38;5;241m=\u001b[39mx,y\n\u001b[0;32m     13\u001b[0m \u001b[38;5;28;01melif\u001b[39;00m event\u001b[38;5;241m==\u001b[39mcv2\u001b[38;5;241m.\u001b[39mEVENT_MOUSEMOVE:\n\u001b[1;32m---> 14\u001b[0m     cv2\u001b[38;5;241m.\u001b[39mputText(img,\u001b[38;5;124;43m'\u001b[39;49m\u001b[38;5;124;43mMouse Position\u001b[39;49m\u001b[38;5;124;43m'\u001b[39;49m\u001b[38;5;241;43m+\u001b[39;49m\u001b[43mix\u001b[49m\u001b[38;5;241m+\u001b[39m\u001b[38;5;124m'\u001b[39m\u001b[38;5;124m ,\u001b[39m\u001b[38;5;124m'\u001b[39m\u001b[38;5;241m+\u001b[39miy,(\u001b[38;5;241m10\u001b[39m,\u001b[38;5;241m50\u001b[39m), font, \u001b[38;5;241m1\u001b[39m,(\u001b[38;5;241m255\u001b[39m,\u001b[38;5;241m255\u001b[39m,\u001b[38;5;241m255\u001b[39m),\u001b[38;5;241m0.7\u001b[39m,cv2\u001b[38;5;241m.\u001b[39mLINE_AA)\n\u001b[0;32m     15\u001b[0m     \u001b[38;5;28;01mif\u001b[39;00m drawing\u001b[38;5;241m==\u001b[39m\u001b[38;5;28;01mTrue\u001b[39;00m:\n\u001b[0;32m     16\u001b[0m         \u001b[38;5;28;01mif\u001b[39;00m mode\u001b[38;5;241m==\u001b[39m \u001b[38;5;28;01mTrue\u001b[39;00m:\n",
      "\u001b[1;31mTypeError\u001b[0m: can only concatenate str (not \"int\") to str"
     ]
    },
    {
     "ename": "TypeError",
     "evalue": "can only concatenate str (not \"int\") to str",
     "output_type": "error",
     "traceback": [
      "\u001b[1;31m---------------------------------------------------------------------------\u001b[0m",
      "\u001b[1;31mTypeError\u001b[0m                                 Traceback (most recent call last)",
      "Cell \u001b[1;32mIn[4], line 14\u001b[0m, in \u001b[0;36mdraw_circle\u001b[1;34m(event, x, y, flags, param)\u001b[0m\n\u001b[0;32m     12\u001b[0m     ix,iy\u001b[38;5;241m=\u001b[39mx,y\n\u001b[0;32m     13\u001b[0m \u001b[38;5;28;01melif\u001b[39;00m event\u001b[38;5;241m==\u001b[39mcv2\u001b[38;5;241m.\u001b[39mEVENT_MOUSEMOVE:\n\u001b[1;32m---> 14\u001b[0m     cv2\u001b[38;5;241m.\u001b[39mputText(img,\u001b[38;5;124;43m'\u001b[39;49m\u001b[38;5;124;43mMouse Position\u001b[39;49m\u001b[38;5;124;43m'\u001b[39;49m\u001b[38;5;241;43m+\u001b[39;49m\u001b[43mix\u001b[49m\u001b[38;5;241m+\u001b[39m\u001b[38;5;124m'\u001b[39m\u001b[38;5;124m ,\u001b[39m\u001b[38;5;124m'\u001b[39m\u001b[38;5;241m+\u001b[39miy,(\u001b[38;5;241m10\u001b[39m,\u001b[38;5;241m50\u001b[39m), font, \u001b[38;5;241m1\u001b[39m,(\u001b[38;5;241m255\u001b[39m,\u001b[38;5;241m255\u001b[39m,\u001b[38;5;241m255\u001b[39m),\u001b[38;5;241m0.7\u001b[39m,cv2\u001b[38;5;241m.\u001b[39mLINE_AA)\n\u001b[0;32m     15\u001b[0m     \u001b[38;5;28;01mif\u001b[39;00m drawing\u001b[38;5;241m==\u001b[39m\u001b[38;5;28;01mTrue\u001b[39;00m:\n\u001b[0;32m     16\u001b[0m         \u001b[38;5;28;01mif\u001b[39;00m mode\u001b[38;5;241m==\u001b[39m \u001b[38;5;28;01mTrue\u001b[39;00m:\n",
      "\u001b[1;31mTypeError\u001b[0m: can only concatenate str (not \"int\") to str"
     ]
    },
    {
     "ename": "TypeError",
     "evalue": "can only concatenate str (not \"int\") to str",
     "output_type": "error",
     "traceback": [
      "\u001b[1;31m---------------------------------------------------------------------------\u001b[0m",
      "\u001b[1;31mTypeError\u001b[0m                                 Traceback (most recent call last)",
      "Cell \u001b[1;32mIn[4], line 14\u001b[0m, in \u001b[0;36mdraw_circle\u001b[1;34m(event, x, y, flags, param)\u001b[0m\n\u001b[0;32m     12\u001b[0m     ix,iy\u001b[38;5;241m=\u001b[39mx,y\n\u001b[0;32m     13\u001b[0m \u001b[38;5;28;01melif\u001b[39;00m event\u001b[38;5;241m==\u001b[39mcv2\u001b[38;5;241m.\u001b[39mEVENT_MOUSEMOVE:\n\u001b[1;32m---> 14\u001b[0m     cv2\u001b[38;5;241m.\u001b[39mputText(img,\u001b[38;5;124;43m'\u001b[39;49m\u001b[38;5;124;43mMouse Position\u001b[39;49m\u001b[38;5;124;43m'\u001b[39;49m\u001b[38;5;241;43m+\u001b[39;49m\u001b[43mix\u001b[49m\u001b[38;5;241m+\u001b[39m\u001b[38;5;124m'\u001b[39m\u001b[38;5;124m ,\u001b[39m\u001b[38;5;124m'\u001b[39m\u001b[38;5;241m+\u001b[39miy,(\u001b[38;5;241m10\u001b[39m,\u001b[38;5;241m50\u001b[39m), font, \u001b[38;5;241m1\u001b[39m,(\u001b[38;5;241m255\u001b[39m,\u001b[38;5;241m255\u001b[39m,\u001b[38;5;241m255\u001b[39m),\u001b[38;5;241m0.7\u001b[39m,cv2\u001b[38;5;241m.\u001b[39mLINE_AA)\n\u001b[0;32m     15\u001b[0m     \u001b[38;5;28;01mif\u001b[39;00m drawing\u001b[38;5;241m==\u001b[39m\u001b[38;5;28;01mTrue\u001b[39;00m:\n\u001b[0;32m     16\u001b[0m         \u001b[38;5;28;01mif\u001b[39;00m mode\u001b[38;5;241m==\u001b[39m \u001b[38;5;28;01mTrue\u001b[39;00m:\n",
      "\u001b[1;31mTypeError\u001b[0m: can only concatenate str (not \"int\") to str"
     ]
    },
    {
     "ename": "TypeError",
     "evalue": "can only concatenate str (not \"int\") to str",
     "output_type": "error",
     "traceback": [
      "\u001b[1;31m---------------------------------------------------------------------------\u001b[0m",
      "\u001b[1;31mTypeError\u001b[0m                                 Traceback (most recent call last)",
      "Cell \u001b[1;32mIn[4], line 14\u001b[0m, in \u001b[0;36mdraw_circle\u001b[1;34m(event, x, y, flags, param)\u001b[0m\n\u001b[0;32m     12\u001b[0m     ix,iy\u001b[38;5;241m=\u001b[39mx,y\n\u001b[0;32m     13\u001b[0m \u001b[38;5;28;01melif\u001b[39;00m event\u001b[38;5;241m==\u001b[39mcv2\u001b[38;5;241m.\u001b[39mEVENT_MOUSEMOVE:\n\u001b[1;32m---> 14\u001b[0m     cv2\u001b[38;5;241m.\u001b[39mputText(img,\u001b[38;5;124;43m'\u001b[39;49m\u001b[38;5;124;43mMouse Position\u001b[39;49m\u001b[38;5;124;43m'\u001b[39;49m\u001b[38;5;241;43m+\u001b[39;49m\u001b[43mix\u001b[49m\u001b[38;5;241m+\u001b[39m\u001b[38;5;124m'\u001b[39m\u001b[38;5;124m ,\u001b[39m\u001b[38;5;124m'\u001b[39m\u001b[38;5;241m+\u001b[39miy,(\u001b[38;5;241m10\u001b[39m,\u001b[38;5;241m50\u001b[39m), font, \u001b[38;5;241m1\u001b[39m,(\u001b[38;5;241m255\u001b[39m,\u001b[38;5;241m255\u001b[39m,\u001b[38;5;241m255\u001b[39m),\u001b[38;5;241m0.7\u001b[39m,cv2\u001b[38;5;241m.\u001b[39mLINE_AA)\n\u001b[0;32m     15\u001b[0m     \u001b[38;5;28;01mif\u001b[39;00m drawing\u001b[38;5;241m==\u001b[39m\u001b[38;5;28;01mTrue\u001b[39;00m:\n\u001b[0;32m     16\u001b[0m         \u001b[38;5;28;01mif\u001b[39;00m mode\u001b[38;5;241m==\u001b[39m \u001b[38;5;28;01mTrue\u001b[39;00m:\n",
      "\u001b[1;31mTypeError\u001b[0m: can only concatenate str (not \"int\") to str"
     ]
    },
    {
     "ename": "TypeError",
     "evalue": "can only concatenate str (not \"int\") to str",
     "output_type": "error",
     "traceback": [
      "\u001b[1;31m---------------------------------------------------------------------------\u001b[0m",
      "\u001b[1;31mTypeError\u001b[0m                                 Traceback (most recent call last)",
      "Cell \u001b[1;32mIn[4], line 14\u001b[0m, in \u001b[0;36mdraw_circle\u001b[1;34m(event, x, y, flags, param)\u001b[0m\n\u001b[0;32m     12\u001b[0m     ix,iy\u001b[38;5;241m=\u001b[39mx,y\n\u001b[0;32m     13\u001b[0m \u001b[38;5;28;01melif\u001b[39;00m event\u001b[38;5;241m==\u001b[39mcv2\u001b[38;5;241m.\u001b[39mEVENT_MOUSEMOVE:\n\u001b[1;32m---> 14\u001b[0m     cv2\u001b[38;5;241m.\u001b[39mputText(img,\u001b[38;5;124;43m'\u001b[39;49m\u001b[38;5;124;43mMouse Position\u001b[39;49m\u001b[38;5;124;43m'\u001b[39;49m\u001b[38;5;241;43m+\u001b[39;49m\u001b[43mix\u001b[49m\u001b[38;5;241m+\u001b[39m\u001b[38;5;124m'\u001b[39m\u001b[38;5;124m ,\u001b[39m\u001b[38;5;124m'\u001b[39m\u001b[38;5;241m+\u001b[39miy,(\u001b[38;5;241m10\u001b[39m,\u001b[38;5;241m50\u001b[39m), font, \u001b[38;5;241m1\u001b[39m,(\u001b[38;5;241m255\u001b[39m,\u001b[38;5;241m255\u001b[39m,\u001b[38;5;241m255\u001b[39m),\u001b[38;5;241m0.7\u001b[39m,cv2\u001b[38;5;241m.\u001b[39mLINE_AA)\n\u001b[0;32m     15\u001b[0m     \u001b[38;5;28;01mif\u001b[39;00m drawing\u001b[38;5;241m==\u001b[39m\u001b[38;5;28;01mTrue\u001b[39;00m:\n\u001b[0;32m     16\u001b[0m         \u001b[38;5;28;01mif\u001b[39;00m mode\u001b[38;5;241m==\u001b[39m \u001b[38;5;28;01mTrue\u001b[39;00m:\n",
      "\u001b[1;31mTypeError\u001b[0m: can only concatenate str (not \"int\") to str"
     ]
    },
    {
     "ename": "TypeError",
     "evalue": "can only concatenate str (not \"int\") to str",
     "output_type": "error",
     "traceback": [
      "\u001b[1;31m---------------------------------------------------------------------------\u001b[0m",
      "\u001b[1;31mTypeError\u001b[0m                                 Traceback (most recent call last)",
      "Cell \u001b[1;32mIn[4], line 14\u001b[0m, in \u001b[0;36mdraw_circle\u001b[1;34m(event, x, y, flags, param)\u001b[0m\n\u001b[0;32m     12\u001b[0m     ix,iy\u001b[38;5;241m=\u001b[39mx,y\n\u001b[0;32m     13\u001b[0m \u001b[38;5;28;01melif\u001b[39;00m event\u001b[38;5;241m==\u001b[39mcv2\u001b[38;5;241m.\u001b[39mEVENT_MOUSEMOVE:\n\u001b[1;32m---> 14\u001b[0m     cv2\u001b[38;5;241m.\u001b[39mputText(img,\u001b[38;5;124;43m'\u001b[39;49m\u001b[38;5;124;43mMouse Position\u001b[39;49m\u001b[38;5;124;43m'\u001b[39;49m\u001b[38;5;241;43m+\u001b[39;49m\u001b[43mix\u001b[49m\u001b[38;5;241m+\u001b[39m\u001b[38;5;124m'\u001b[39m\u001b[38;5;124m ,\u001b[39m\u001b[38;5;124m'\u001b[39m\u001b[38;5;241m+\u001b[39miy,(\u001b[38;5;241m10\u001b[39m,\u001b[38;5;241m50\u001b[39m), font, \u001b[38;5;241m1\u001b[39m,(\u001b[38;5;241m255\u001b[39m,\u001b[38;5;241m255\u001b[39m,\u001b[38;5;241m255\u001b[39m),\u001b[38;5;241m0.7\u001b[39m,cv2\u001b[38;5;241m.\u001b[39mLINE_AA)\n\u001b[0;32m     15\u001b[0m     \u001b[38;5;28;01mif\u001b[39;00m drawing\u001b[38;5;241m==\u001b[39m\u001b[38;5;28;01mTrue\u001b[39;00m:\n\u001b[0;32m     16\u001b[0m         \u001b[38;5;28;01mif\u001b[39;00m mode\u001b[38;5;241m==\u001b[39m \u001b[38;5;28;01mTrue\u001b[39;00m:\n",
      "\u001b[1;31mTypeError\u001b[0m: can only concatenate str (not \"int\") to str"
     ]
    },
    {
     "ename": "TypeError",
     "evalue": "can only concatenate str (not \"int\") to str",
     "output_type": "error",
     "traceback": [
      "\u001b[1;31m---------------------------------------------------------------------------\u001b[0m",
      "\u001b[1;31mTypeError\u001b[0m                                 Traceback (most recent call last)",
      "Cell \u001b[1;32mIn[4], line 14\u001b[0m, in \u001b[0;36mdraw_circle\u001b[1;34m(event, x, y, flags, param)\u001b[0m\n\u001b[0;32m     12\u001b[0m     ix,iy\u001b[38;5;241m=\u001b[39mx,y\n\u001b[0;32m     13\u001b[0m \u001b[38;5;28;01melif\u001b[39;00m event\u001b[38;5;241m==\u001b[39mcv2\u001b[38;5;241m.\u001b[39mEVENT_MOUSEMOVE:\n\u001b[1;32m---> 14\u001b[0m     cv2\u001b[38;5;241m.\u001b[39mputText(img,\u001b[38;5;124;43m'\u001b[39;49m\u001b[38;5;124;43mMouse Position\u001b[39;49m\u001b[38;5;124;43m'\u001b[39;49m\u001b[38;5;241;43m+\u001b[39;49m\u001b[43mix\u001b[49m\u001b[38;5;241m+\u001b[39m\u001b[38;5;124m'\u001b[39m\u001b[38;5;124m ,\u001b[39m\u001b[38;5;124m'\u001b[39m\u001b[38;5;241m+\u001b[39miy,(\u001b[38;5;241m10\u001b[39m,\u001b[38;5;241m50\u001b[39m), font, \u001b[38;5;241m1\u001b[39m,(\u001b[38;5;241m255\u001b[39m,\u001b[38;5;241m255\u001b[39m,\u001b[38;5;241m255\u001b[39m),\u001b[38;5;241m0.7\u001b[39m,cv2\u001b[38;5;241m.\u001b[39mLINE_AA)\n\u001b[0;32m     15\u001b[0m     \u001b[38;5;28;01mif\u001b[39;00m drawing\u001b[38;5;241m==\u001b[39m\u001b[38;5;28;01mTrue\u001b[39;00m:\n\u001b[0;32m     16\u001b[0m         \u001b[38;5;28;01mif\u001b[39;00m mode\u001b[38;5;241m==\u001b[39m \u001b[38;5;28;01mTrue\u001b[39;00m:\n",
      "\u001b[1;31mTypeError\u001b[0m: can only concatenate str (not \"int\") to str"
     ]
    },
    {
     "ename": "TypeError",
     "evalue": "can only concatenate str (not \"int\") to str",
     "output_type": "error",
     "traceback": [
      "\u001b[1;31m---------------------------------------------------------------------------\u001b[0m",
      "\u001b[1;31mTypeError\u001b[0m                                 Traceback (most recent call last)",
      "Cell \u001b[1;32mIn[4], line 14\u001b[0m, in \u001b[0;36mdraw_circle\u001b[1;34m(event, x, y, flags, param)\u001b[0m\n\u001b[0;32m     12\u001b[0m     ix,iy\u001b[38;5;241m=\u001b[39mx,y\n\u001b[0;32m     13\u001b[0m \u001b[38;5;28;01melif\u001b[39;00m event\u001b[38;5;241m==\u001b[39mcv2\u001b[38;5;241m.\u001b[39mEVENT_MOUSEMOVE:\n\u001b[1;32m---> 14\u001b[0m     cv2\u001b[38;5;241m.\u001b[39mputText(img,\u001b[38;5;124;43m'\u001b[39;49m\u001b[38;5;124;43mMouse Position\u001b[39;49m\u001b[38;5;124;43m'\u001b[39;49m\u001b[38;5;241;43m+\u001b[39;49m\u001b[43mix\u001b[49m\u001b[38;5;241m+\u001b[39m\u001b[38;5;124m'\u001b[39m\u001b[38;5;124m ,\u001b[39m\u001b[38;5;124m'\u001b[39m\u001b[38;5;241m+\u001b[39miy,(\u001b[38;5;241m10\u001b[39m,\u001b[38;5;241m50\u001b[39m), font, \u001b[38;5;241m1\u001b[39m,(\u001b[38;5;241m255\u001b[39m,\u001b[38;5;241m255\u001b[39m,\u001b[38;5;241m255\u001b[39m),\u001b[38;5;241m0.7\u001b[39m,cv2\u001b[38;5;241m.\u001b[39mLINE_AA)\n\u001b[0;32m     15\u001b[0m     \u001b[38;5;28;01mif\u001b[39;00m drawing\u001b[38;5;241m==\u001b[39m\u001b[38;5;28;01mTrue\u001b[39;00m:\n\u001b[0;32m     16\u001b[0m         \u001b[38;5;28;01mif\u001b[39;00m mode\u001b[38;5;241m==\u001b[39m \u001b[38;5;28;01mTrue\u001b[39;00m:\n",
      "\u001b[1;31mTypeError\u001b[0m: can only concatenate str (not \"int\") to str"
     ]
    },
    {
     "ename": "TypeError",
     "evalue": "can only concatenate str (not \"int\") to str",
     "output_type": "error",
     "traceback": [
      "\u001b[1;31m---------------------------------------------------------------------------\u001b[0m",
      "\u001b[1;31mTypeError\u001b[0m                                 Traceback (most recent call last)",
      "Cell \u001b[1;32mIn[4], line 14\u001b[0m, in \u001b[0;36mdraw_circle\u001b[1;34m(event, x, y, flags, param)\u001b[0m\n\u001b[0;32m     12\u001b[0m     ix,iy\u001b[38;5;241m=\u001b[39mx,y\n\u001b[0;32m     13\u001b[0m \u001b[38;5;28;01melif\u001b[39;00m event\u001b[38;5;241m==\u001b[39mcv2\u001b[38;5;241m.\u001b[39mEVENT_MOUSEMOVE:\n\u001b[1;32m---> 14\u001b[0m     cv2\u001b[38;5;241m.\u001b[39mputText(img,\u001b[38;5;124;43m'\u001b[39;49m\u001b[38;5;124;43mMouse Position\u001b[39;49m\u001b[38;5;124;43m'\u001b[39;49m\u001b[38;5;241;43m+\u001b[39;49m\u001b[43mix\u001b[49m\u001b[38;5;241m+\u001b[39m\u001b[38;5;124m'\u001b[39m\u001b[38;5;124m ,\u001b[39m\u001b[38;5;124m'\u001b[39m\u001b[38;5;241m+\u001b[39miy,(\u001b[38;5;241m10\u001b[39m,\u001b[38;5;241m50\u001b[39m), font, \u001b[38;5;241m1\u001b[39m,(\u001b[38;5;241m255\u001b[39m,\u001b[38;5;241m255\u001b[39m,\u001b[38;5;241m255\u001b[39m),\u001b[38;5;241m0.7\u001b[39m,cv2\u001b[38;5;241m.\u001b[39mLINE_AA)\n\u001b[0;32m     15\u001b[0m     \u001b[38;5;28;01mif\u001b[39;00m drawing\u001b[38;5;241m==\u001b[39m\u001b[38;5;28;01mTrue\u001b[39;00m:\n\u001b[0;32m     16\u001b[0m         \u001b[38;5;28;01mif\u001b[39;00m mode\u001b[38;5;241m==\u001b[39m \u001b[38;5;28;01mTrue\u001b[39;00m:\n",
      "\u001b[1;31mTypeError\u001b[0m: can only concatenate str (not \"int\") to str"
     ]
    },
    {
     "ename": "TypeError",
     "evalue": "can only concatenate str (not \"int\") to str",
     "output_type": "error",
     "traceback": [
      "\u001b[1;31m---------------------------------------------------------------------------\u001b[0m",
      "\u001b[1;31mTypeError\u001b[0m                                 Traceback (most recent call last)",
      "Cell \u001b[1;32mIn[4], line 14\u001b[0m, in \u001b[0;36mdraw_circle\u001b[1;34m(event, x, y, flags, param)\u001b[0m\n\u001b[0;32m     12\u001b[0m     ix,iy\u001b[38;5;241m=\u001b[39mx,y\n\u001b[0;32m     13\u001b[0m \u001b[38;5;28;01melif\u001b[39;00m event\u001b[38;5;241m==\u001b[39mcv2\u001b[38;5;241m.\u001b[39mEVENT_MOUSEMOVE:\n\u001b[1;32m---> 14\u001b[0m     cv2\u001b[38;5;241m.\u001b[39mputText(img,\u001b[38;5;124;43m'\u001b[39;49m\u001b[38;5;124;43mMouse Position\u001b[39;49m\u001b[38;5;124;43m'\u001b[39;49m\u001b[38;5;241;43m+\u001b[39;49m\u001b[43mix\u001b[49m\u001b[38;5;241m+\u001b[39m\u001b[38;5;124m'\u001b[39m\u001b[38;5;124m ,\u001b[39m\u001b[38;5;124m'\u001b[39m\u001b[38;5;241m+\u001b[39miy,(\u001b[38;5;241m10\u001b[39m,\u001b[38;5;241m50\u001b[39m), font, \u001b[38;5;241m1\u001b[39m,(\u001b[38;5;241m255\u001b[39m,\u001b[38;5;241m255\u001b[39m,\u001b[38;5;241m255\u001b[39m),\u001b[38;5;241m0.7\u001b[39m,cv2\u001b[38;5;241m.\u001b[39mLINE_AA)\n\u001b[0;32m     15\u001b[0m     \u001b[38;5;28;01mif\u001b[39;00m drawing\u001b[38;5;241m==\u001b[39m\u001b[38;5;28;01mTrue\u001b[39;00m:\n\u001b[0;32m     16\u001b[0m         \u001b[38;5;28;01mif\u001b[39;00m mode\u001b[38;5;241m==\u001b[39m \u001b[38;5;28;01mTrue\u001b[39;00m:\n",
      "\u001b[1;31mTypeError\u001b[0m: can only concatenate str (not \"int\") to str"
     ]
    },
    {
     "ename": "TypeError",
     "evalue": "can only concatenate str (not \"int\") to str",
     "output_type": "error",
     "traceback": [
      "\u001b[1;31m---------------------------------------------------------------------------\u001b[0m",
      "\u001b[1;31mTypeError\u001b[0m                                 Traceback (most recent call last)",
      "Cell \u001b[1;32mIn[4], line 14\u001b[0m, in \u001b[0;36mdraw_circle\u001b[1;34m(event, x, y, flags, param)\u001b[0m\n\u001b[0;32m     12\u001b[0m     ix,iy\u001b[38;5;241m=\u001b[39mx,y\n\u001b[0;32m     13\u001b[0m \u001b[38;5;28;01melif\u001b[39;00m event\u001b[38;5;241m==\u001b[39mcv2\u001b[38;5;241m.\u001b[39mEVENT_MOUSEMOVE:\n\u001b[1;32m---> 14\u001b[0m     cv2\u001b[38;5;241m.\u001b[39mputText(img,\u001b[38;5;124;43m'\u001b[39;49m\u001b[38;5;124;43mMouse Position\u001b[39;49m\u001b[38;5;124;43m'\u001b[39;49m\u001b[38;5;241;43m+\u001b[39;49m\u001b[43mix\u001b[49m\u001b[38;5;241m+\u001b[39m\u001b[38;5;124m'\u001b[39m\u001b[38;5;124m ,\u001b[39m\u001b[38;5;124m'\u001b[39m\u001b[38;5;241m+\u001b[39miy,(\u001b[38;5;241m10\u001b[39m,\u001b[38;5;241m50\u001b[39m), font, \u001b[38;5;241m1\u001b[39m,(\u001b[38;5;241m255\u001b[39m,\u001b[38;5;241m255\u001b[39m,\u001b[38;5;241m255\u001b[39m),\u001b[38;5;241m0.7\u001b[39m,cv2\u001b[38;5;241m.\u001b[39mLINE_AA)\n\u001b[0;32m     15\u001b[0m     \u001b[38;5;28;01mif\u001b[39;00m drawing\u001b[38;5;241m==\u001b[39m\u001b[38;5;28;01mTrue\u001b[39;00m:\n\u001b[0;32m     16\u001b[0m         \u001b[38;5;28;01mif\u001b[39;00m mode\u001b[38;5;241m==\u001b[39m \u001b[38;5;28;01mTrue\u001b[39;00m:\n",
      "\u001b[1;31mTypeError\u001b[0m: can only concatenate str (not \"int\") to str"
     ]
    },
    {
     "ename": "TypeError",
     "evalue": "can only concatenate str (not \"int\") to str",
     "output_type": "error",
     "traceback": [
      "\u001b[1;31m---------------------------------------------------------------------------\u001b[0m",
      "\u001b[1;31mTypeError\u001b[0m                                 Traceback (most recent call last)",
      "Cell \u001b[1;32mIn[4], line 14\u001b[0m, in \u001b[0;36mdraw_circle\u001b[1;34m(event, x, y, flags, param)\u001b[0m\n\u001b[0;32m     12\u001b[0m     ix,iy\u001b[38;5;241m=\u001b[39mx,y\n\u001b[0;32m     13\u001b[0m \u001b[38;5;28;01melif\u001b[39;00m event\u001b[38;5;241m==\u001b[39mcv2\u001b[38;5;241m.\u001b[39mEVENT_MOUSEMOVE:\n\u001b[1;32m---> 14\u001b[0m     cv2\u001b[38;5;241m.\u001b[39mputText(img,\u001b[38;5;124;43m'\u001b[39;49m\u001b[38;5;124;43mMouse Position\u001b[39;49m\u001b[38;5;124;43m'\u001b[39;49m\u001b[38;5;241;43m+\u001b[39;49m\u001b[43mix\u001b[49m\u001b[38;5;241m+\u001b[39m\u001b[38;5;124m'\u001b[39m\u001b[38;5;124m ,\u001b[39m\u001b[38;5;124m'\u001b[39m\u001b[38;5;241m+\u001b[39miy,(\u001b[38;5;241m10\u001b[39m,\u001b[38;5;241m50\u001b[39m), font, \u001b[38;5;241m1\u001b[39m,(\u001b[38;5;241m255\u001b[39m,\u001b[38;5;241m255\u001b[39m,\u001b[38;5;241m255\u001b[39m),\u001b[38;5;241m0.7\u001b[39m,cv2\u001b[38;5;241m.\u001b[39mLINE_AA)\n\u001b[0;32m     15\u001b[0m     \u001b[38;5;28;01mif\u001b[39;00m drawing\u001b[38;5;241m==\u001b[39m\u001b[38;5;28;01mTrue\u001b[39;00m:\n\u001b[0;32m     16\u001b[0m         \u001b[38;5;28;01mif\u001b[39;00m mode\u001b[38;5;241m==\u001b[39m \u001b[38;5;28;01mTrue\u001b[39;00m:\n",
      "\u001b[1;31mTypeError\u001b[0m: can only concatenate str (not \"int\") to str"
     ]
    },
    {
     "ename": "TypeError",
     "evalue": "can only concatenate str (not \"int\") to str",
     "output_type": "error",
     "traceback": [
      "\u001b[1;31m---------------------------------------------------------------------------\u001b[0m",
      "\u001b[1;31mTypeError\u001b[0m                                 Traceback (most recent call last)",
      "Cell \u001b[1;32mIn[4], line 14\u001b[0m, in \u001b[0;36mdraw_circle\u001b[1;34m(event, x, y, flags, param)\u001b[0m\n\u001b[0;32m     12\u001b[0m     ix,iy\u001b[38;5;241m=\u001b[39mx,y\n\u001b[0;32m     13\u001b[0m \u001b[38;5;28;01melif\u001b[39;00m event\u001b[38;5;241m==\u001b[39mcv2\u001b[38;5;241m.\u001b[39mEVENT_MOUSEMOVE:\n\u001b[1;32m---> 14\u001b[0m     cv2\u001b[38;5;241m.\u001b[39mputText(img,\u001b[38;5;124;43m'\u001b[39;49m\u001b[38;5;124;43mMouse Position\u001b[39;49m\u001b[38;5;124;43m'\u001b[39;49m\u001b[38;5;241;43m+\u001b[39;49m\u001b[43mix\u001b[49m\u001b[38;5;241m+\u001b[39m\u001b[38;5;124m'\u001b[39m\u001b[38;5;124m ,\u001b[39m\u001b[38;5;124m'\u001b[39m\u001b[38;5;241m+\u001b[39miy,(\u001b[38;5;241m10\u001b[39m,\u001b[38;5;241m50\u001b[39m), font, \u001b[38;5;241m1\u001b[39m,(\u001b[38;5;241m255\u001b[39m,\u001b[38;5;241m255\u001b[39m,\u001b[38;5;241m255\u001b[39m),\u001b[38;5;241m0.7\u001b[39m,cv2\u001b[38;5;241m.\u001b[39mLINE_AA)\n\u001b[0;32m     15\u001b[0m     \u001b[38;5;28;01mif\u001b[39;00m drawing\u001b[38;5;241m==\u001b[39m\u001b[38;5;28;01mTrue\u001b[39;00m:\n\u001b[0;32m     16\u001b[0m         \u001b[38;5;28;01mif\u001b[39;00m mode\u001b[38;5;241m==\u001b[39m \u001b[38;5;28;01mTrue\u001b[39;00m:\n",
      "\u001b[1;31mTypeError\u001b[0m: can only concatenate str (not \"int\") to str"
     ]
    },
    {
     "ename": "TypeError",
     "evalue": "can only concatenate str (not \"int\") to str",
     "output_type": "error",
     "traceback": [
      "\u001b[1;31m---------------------------------------------------------------------------\u001b[0m",
      "\u001b[1;31mTypeError\u001b[0m                                 Traceback (most recent call last)",
      "Cell \u001b[1;32mIn[4], line 14\u001b[0m, in \u001b[0;36mdraw_circle\u001b[1;34m(event, x, y, flags, param)\u001b[0m\n\u001b[0;32m     12\u001b[0m     ix,iy\u001b[38;5;241m=\u001b[39mx,y\n\u001b[0;32m     13\u001b[0m \u001b[38;5;28;01melif\u001b[39;00m event\u001b[38;5;241m==\u001b[39mcv2\u001b[38;5;241m.\u001b[39mEVENT_MOUSEMOVE:\n\u001b[1;32m---> 14\u001b[0m     cv2\u001b[38;5;241m.\u001b[39mputText(img,\u001b[38;5;124;43m'\u001b[39;49m\u001b[38;5;124;43mMouse Position\u001b[39;49m\u001b[38;5;124;43m'\u001b[39;49m\u001b[38;5;241;43m+\u001b[39;49m\u001b[43mix\u001b[49m\u001b[38;5;241m+\u001b[39m\u001b[38;5;124m'\u001b[39m\u001b[38;5;124m ,\u001b[39m\u001b[38;5;124m'\u001b[39m\u001b[38;5;241m+\u001b[39miy,(\u001b[38;5;241m10\u001b[39m,\u001b[38;5;241m50\u001b[39m), font, \u001b[38;5;241m1\u001b[39m,(\u001b[38;5;241m255\u001b[39m,\u001b[38;5;241m255\u001b[39m,\u001b[38;5;241m255\u001b[39m),\u001b[38;5;241m0.7\u001b[39m,cv2\u001b[38;5;241m.\u001b[39mLINE_AA)\n\u001b[0;32m     15\u001b[0m     \u001b[38;5;28;01mif\u001b[39;00m drawing\u001b[38;5;241m==\u001b[39m\u001b[38;5;28;01mTrue\u001b[39;00m:\n\u001b[0;32m     16\u001b[0m         \u001b[38;5;28;01mif\u001b[39;00m mode\u001b[38;5;241m==\u001b[39m \u001b[38;5;28;01mTrue\u001b[39;00m:\n",
      "\u001b[1;31mTypeError\u001b[0m: can only concatenate str (not \"int\") to str"
     ]
    },
    {
     "ename": "TypeError",
     "evalue": "can only concatenate str (not \"int\") to str",
     "output_type": "error",
     "traceback": [
      "\u001b[1;31m---------------------------------------------------------------------------\u001b[0m",
      "\u001b[1;31mTypeError\u001b[0m                                 Traceback (most recent call last)",
      "Cell \u001b[1;32mIn[4], line 14\u001b[0m, in \u001b[0;36mdraw_circle\u001b[1;34m(event, x, y, flags, param)\u001b[0m\n\u001b[0;32m     12\u001b[0m     ix,iy\u001b[38;5;241m=\u001b[39mx,y\n\u001b[0;32m     13\u001b[0m \u001b[38;5;28;01melif\u001b[39;00m event\u001b[38;5;241m==\u001b[39mcv2\u001b[38;5;241m.\u001b[39mEVENT_MOUSEMOVE:\n\u001b[1;32m---> 14\u001b[0m     cv2\u001b[38;5;241m.\u001b[39mputText(img,\u001b[38;5;124;43m'\u001b[39;49m\u001b[38;5;124;43mMouse Position\u001b[39;49m\u001b[38;5;124;43m'\u001b[39;49m\u001b[38;5;241;43m+\u001b[39;49m\u001b[43mix\u001b[49m\u001b[38;5;241m+\u001b[39m\u001b[38;5;124m'\u001b[39m\u001b[38;5;124m ,\u001b[39m\u001b[38;5;124m'\u001b[39m\u001b[38;5;241m+\u001b[39miy,(\u001b[38;5;241m10\u001b[39m,\u001b[38;5;241m50\u001b[39m), font, \u001b[38;5;241m1\u001b[39m,(\u001b[38;5;241m255\u001b[39m,\u001b[38;5;241m255\u001b[39m,\u001b[38;5;241m255\u001b[39m),\u001b[38;5;241m0.7\u001b[39m,cv2\u001b[38;5;241m.\u001b[39mLINE_AA)\n\u001b[0;32m     15\u001b[0m     \u001b[38;5;28;01mif\u001b[39;00m drawing\u001b[38;5;241m==\u001b[39m\u001b[38;5;28;01mTrue\u001b[39;00m:\n\u001b[0;32m     16\u001b[0m         \u001b[38;5;28;01mif\u001b[39;00m mode\u001b[38;5;241m==\u001b[39m \u001b[38;5;28;01mTrue\u001b[39;00m:\n",
      "\u001b[1;31mTypeError\u001b[0m: can only concatenate str (not \"int\") to str"
     ]
    },
    {
     "ename": "TypeError",
     "evalue": "can only concatenate str (not \"int\") to str",
     "output_type": "error",
     "traceback": [
      "\u001b[1;31m---------------------------------------------------------------------------\u001b[0m",
      "\u001b[1;31mTypeError\u001b[0m                                 Traceback (most recent call last)",
      "Cell \u001b[1;32mIn[4], line 14\u001b[0m, in \u001b[0;36mdraw_circle\u001b[1;34m(event, x, y, flags, param)\u001b[0m\n\u001b[0;32m     12\u001b[0m     ix,iy\u001b[38;5;241m=\u001b[39mx,y\n\u001b[0;32m     13\u001b[0m \u001b[38;5;28;01melif\u001b[39;00m event\u001b[38;5;241m==\u001b[39mcv2\u001b[38;5;241m.\u001b[39mEVENT_MOUSEMOVE:\n\u001b[1;32m---> 14\u001b[0m     cv2\u001b[38;5;241m.\u001b[39mputText(img,\u001b[38;5;124;43m'\u001b[39;49m\u001b[38;5;124;43mMouse Position\u001b[39;49m\u001b[38;5;124;43m'\u001b[39;49m\u001b[38;5;241;43m+\u001b[39;49m\u001b[43mix\u001b[49m\u001b[38;5;241m+\u001b[39m\u001b[38;5;124m'\u001b[39m\u001b[38;5;124m ,\u001b[39m\u001b[38;5;124m'\u001b[39m\u001b[38;5;241m+\u001b[39miy,(\u001b[38;5;241m10\u001b[39m,\u001b[38;5;241m50\u001b[39m), font, \u001b[38;5;241m1\u001b[39m,(\u001b[38;5;241m255\u001b[39m,\u001b[38;5;241m255\u001b[39m,\u001b[38;5;241m255\u001b[39m),\u001b[38;5;241m0.7\u001b[39m,cv2\u001b[38;5;241m.\u001b[39mLINE_AA)\n\u001b[0;32m     15\u001b[0m     \u001b[38;5;28;01mif\u001b[39;00m drawing\u001b[38;5;241m==\u001b[39m\u001b[38;5;28;01mTrue\u001b[39;00m:\n\u001b[0;32m     16\u001b[0m         \u001b[38;5;28;01mif\u001b[39;00m mode\u001b[38;5;241m==\u001b[39m \u001b[38;5;28;01mTrue\u001b[39;00m:\n",
      "\u001b[1;31mTypeError\u001b[0m: can only concatenate str (not \"int\") to str"
     ]
    },
    {
     "ename": "TypeError",
     "evalue": "can only concatenate str (not \"int\") to str",
     "output_type": "error",
     "traceback": [
      "\u001b[1;31m---------------------------------------------------------------------------\u001b[0m",
      "\u001b[1;31mTypeError\u001b[0m                                 Traceback (most recent call last)",
      "Cell \u001b[1;32mIn[4], line 14\u001b[0m, in \u001b[0;36mdraw_circle\u001b[1;34m(event, x, y, flags, param)\u001b[0m\n\u001b[0;32m     12\u001b[0m     ix,iy\u001b[38;5;241m=\u001b[39mx,y\n\u001b[0;32m     13\u001b[0m \u001b[38;5;28;01melif\u001b[39;00m event\u001b[38;5;241m==\u001b[39mcv2\u001b[38;5;241m.\u001b[39mEVENT_MOUSEMOVE:\n\u001b[1;32m---> 14\u001b[0m     cv2\u001b[38;5;241m.\u001b[39mputText(img,\u001b[38;5;124;43m'\u001b[39;49m\u001b[38;5;124;43mMouse Position\u001b[39;49m\u001b[38;5;124;43m'\u001b[39;49m\u001b[38;5;241;43m+\u001b[39;49m\u001b[43mix\u001b[49m\u001b[38;5;241m+\u001b[39m\u001b[38;5;124m'\u001b[39m\u001b[38;5;124m ,\u001b[39m\u001b[38;5;124m'\u001b[39m\u001b[38;5;241m+\u001b[39miy,(\u001b[38;5;241m10\u001b[39m,\u001b[38;5;241m50\u001b[39m), font, \u001b[38;5;241m1\u001b[39m,(\u001b[38;5;241m255\u001b[39m,\u001b[38;5;241m255\u001b[39m,\u001b[38;5;241m255\u001b[39m),\u001b[38;5;241m0.7\u001b[39m,cv2\u001b[38;5;241m.\u001b[39mLINE_AA)\n\u001b[0;32m     15\u001b[0m     \u001b[38;5;28;01mif\u001b[39;00m drawing\u001b[38;5;241m==\u001b[39m\u001b[38;5;28;01mTrue\u001b[39;00m:\n\u001b[0;32m     16\u001b[0m         \u001b[38;5;28;01mif\u001b[39;00m mode\u001b[38;5;241m==\u001b[39m \u001b[38;5;28;01mTrue\u001b[39;00m:\n",
      "\u001b[1;31mTypeError\u001b[0m: can only concatenate str (not \"int\") to str"
     ]
    },
    {
     "ename": "TypeError",
     "evalue": "can only concatenate str (not \"int\") to str",
     "output_type": "error",
     "traceback": [
      "\u001b[1;31m---------------------------------------------------------------------------\u001b[0m",
      "\u001b[1;31mTypeError\u001b[0m                                 Traceback (most recent call last)",
      "Cell \u001b[1;32mIn[4], line 14\u001b[0m, in \u001b[0;36mdraw_circle\u001b[1;34m(event, x, y, flags, param)\u001b[0m\n\u001b[0;32m     12\u001b[0m     ix,iy\u001b[38;5;241m=\u001b[39mx,y\n\u001b[0;32m     13\u001b[0m \u001b[38;5;28;01melif\u001b[39;00m event\u001b[38;5;241m==\u001b[39mcv2\u001b[38;5;241m.\u001b[39mEVENT_MOUSEMOVE:\n\u001b[1;32m---> 14\u001b[0m     cv2\u001b[38;5;241m.\u001b[39mputText(img,\u001b[38;5;124;43m'\u001b[39;49m\u001b[38;5;124;43mMouse Position\u001b[39;49m\u001b[38;5;124;43m'\u001b[39;49m\u001b[38;5;241;43m+\u001b[39;49m\u001b[43mix\u001b[49m\u001b[38;5;241m+\u001b[39m\u001b[38;5;124m'\u001b[39m\u001b[38;5;124m ,\u001b[39m\u001b[38;5;124m'\u001b[39m\u001b[38;5;241m+\u001b[39miy,(\u001b[38;5;241m10\u001b[39m,\u001b[38;5;241m50\u001b[39m), font, \u001b[38;5;241m1\u001b[39m,(\u001b[38;5;241m255\u001b[39m,\u001b[38;5;241m255\u001b[39m,\u001b[38;5;241m255\u001b[39m),\u001b[38;5;241m0.7\u001b[39m,cv2\u001b[38;5;241m.\u001b[39mLINE_AA)\n\u001b[0;32m     15\u001b[0m     \u001b[38;5;28;01mif\u001b[39;00m drawing\u001b[38;5;241m==\u001b[39m\u001b[38;5;28;01mTrue\u001b[39;00m:\n\u001b[0;32m     16\u001b[0m         \u001b[38;5;28;01mif\u001b[39;00m mode\u001b[38;5;241m==\u001b[39m \u001b[38;5;28;01mTrue\u001b[39;00m:\n",
      "\u001b[1;31mTypeError\u001b[0m: can only concatenate str (not \"int\") to str"
     ]
    },
    {
     "ename": "TypeError",
     "evalue": "can only concatenate str (not \"int\") to str",
     "output_type": "error",
     "traceback": [
      "\u001b[1;31m---------------------------------------------------------------------------\u001b[0m",
      "\u001b[1;31mTypeError\u001b[0m                                 Traceback (most recent call last)",
      "Cell \u001b[1;32mIn[4], line 14\u001b[0m, in \u001b[0;36mdraw_circle\u001b[1;34m(event, x, y, flags, param)\u001b[0m\n\u001b[0;32m     12\u001b[0m     ix,iy\u001b[38;5;241m=\u001b[39mx,y\n\u001b[0;32m     13\u001b[0m \u001b[38;5;28;01melif\u001b[39;00m event\u001b[38;5;241m==\u001b[39mcv2\u001b[38;5;241m.\u001b[39mEVENT_MOUSEMOVE:\n\u001b[1;32m---> 14\u001b[0m     cv2\u001b[38;5;241m.\u001b[39mputText(img,\u001b[38;5;124;43m'\u001b[39;49m\u001b[38;5;124;43mMouse Position\u001b[39;49m\u001b[38;5;124;43m'\u001b[39;49m\u001b[38;5;241;43m+\u001b[39;49m\u001b[43mix\u001b[49m\u001b[38;5;241m+\u001b[39m\u001b[38;5;124m'\u001b[39m\u001b[38;5;124m ,\u001b[39m\u001b[38;5;124m'\u001b[39m\u001b[38;5;241m+\u001b[39miy,(\u001b[38;5;241m10\u001b[39m,\u001b[38;5;241m50\u001b[39m), font, \u001b[38;5;241m1\u001b[39m,(\u001b[38;5;241m255\u001b[39m,\u001b[38;5;241m255\u001b[39m,\u001b[38;5;241m255\u001b[39m),\u001b[38;5;241m0.7\u001b[39m,cv2\u001b[38;5;241m.\u001b[39mLINE_AA)\n\u001b[0;32m     15\u001b[0m     \u001b[38;5;28;01mif\u001b[39;00m drawing\u001b[38;5;241m==\u001b[39m\u001b[38;5;28;01mTrue\u001b[39;00m:\n\u001b[0;32m     16\u001b[0m         \u001b[38;5;28;01mif\u001b[39;00m mode\u001b[38;5;241m==\u001b[39m \u001b[38;5;28;01mTrue\u001b[39;00m:\n",
      "\u001b[1;31mTypeError\u001b[0m: can only concatenate str (not \"int\") to str"
     ]
    },
    {
     "ename": "TypeError",
     "evalue": "can only concatenate str (not \"int\") to str",
     "output_type": "error",
     "traceback": [
      "\u001b[1;31m---------------------------------------------------------------------------\u001b[0m",
      "\u001b[1;31mTypeError\u001b[0m                                 Traceback (most recent call last)",
      "Cell \u001b[1;32mIn[4], line 14\u001b[0m, in \u001b[0;36mdraw_circle\u001b[1;34m(event, x, y, flags, param)\u001b[0m\n\u001b[0;32m     12\u001b[0m     ix,iy\u001b[38;5;241m=\u001b[39mx,y\n\u001b[0;32m     13\u001b[0m \u001b[38;5;28;01melif\u001b[39;00m event\u001b[38;5;241m==\u001b[39mcv2\u001b[38;5;241m.\u001b[39mEVENT_MOUSEMOVE:\n\u001b[1;32m---> 14\u001b[0m     cv2\u001b[38;5;241m.\u001b[39mputText(img,\u001b[38;5;124;43m'\u001b[39;49m\u001b[38;5;124;43mMouse Position\u001b[39;49m\u001b[38;5;124;43m'\u001b[39;49m\u001b[38;5;241;43m+\u001b[39;49m\u001b[43mix\u001b[49m\u001b[38;5;241m+\u001b[39m\u001b[38;5;124m'\u001b[39m\u001b[38;5;124m ,\u001b[39m\u001b[38;5;124m'\u001b[39m\u001b[38;5;241m+\u001b[39miy,(\u001b[38;5;241m10\u001b[39m,\u001b[38;5;241m50\u001b[39m), font, \u001b[38;5;241m1\u001b[39m,(\u001b[38;5;241m255\u001b[39m,\u001b[38;5;241m255\u001b[39m,\u001b[38;5;241m255\u001b[39m),\u001b[38;5;241m0.7\u001b[39m,cv2\u001b[38;5;241m.\u001b[39mLINE_AA)\n\u001b[0;32m     15\u001b[0m     \u001b[38;5;28;01mif\u001b[39;00m drawing\u001b[38;5;241m==\u001b[39m\u001b[38;5;28;01mTrue\u001b[39;00m:\n\u001b[0;32m     16\u001b[0m         \u001b[38;5;28;01mif\u001b[39;00m mode\u001b[38;5;241m==\u001b[39m \u001b[38;5;28;01mTrue\u001b[39;00m:\n",
      "\u001b[1;31mTypeError\u001b[0m: can only concatenate str (not \"int\") to str"
     ]
    },
    {
     "ename": "TypeError",
     "evalue": "can only concatenate str (not \"int\") to str",
     "output_type": "error",
     "traceback": [
      "\u001b[1;31m---------------------------------------------------------------------------\u001b[0m",
      "\u001b[1;31mTypeError\u001b[0m                                 Traceback (most recent call last)",
      "Cell \u001b[1;32mIn[4], line 14\u001b[0m, in \u001b[0;36mdraw_circle\u001b[1;34m(event, x, y, flags, param)\u001b[0m\n\u001b[0;32m     12\u001b[0m     ix,iy\u001b[38;5;241m=\u001b[39mx,y\n\u001b[0;32m     13\u001b[0m \u001b[38;5;28;01melif\u001b[39;00m event\u001b[38;5;241m==\u001b[39mcv2\u001b[38;5;241m.\u001b[39mEVENT_MOUSEMOVE:\n\u001b[1;32m---> 14\u001b[0m     cv2\u001b[38;5;241m.\u001b[39mputText(img,\u001b[38;5;124;43m'\u001b[39;49m\u001b[38;5;124;43mMouse Position\u001b[39;49m\u001b[38;5;124;43m'\u001b[39;49m\u001b[38;5;241;43m+\u001b[39;49m\u001b[43mix\u001b[49m\u001b[38;5;241m+\u001b[39m\u001b[38;5;124m'\u001b[39m\u001b[38;5;124m ,\u001b[39m\u001b[38;5;124m'\u001b[39m\u001b[38;5;241m+\u001b[39miy,(\u001b[38;5;241m10\u001b[39m,\u001b[38;5;241m50\u001b[39m), font, \u001b[38;5;241m1\u001b[39m,(\u001b[38;5;241m255\u001b[39m,\u001b[38;5;241m255\u001b[39m,\u001b[38;5;241m255\u001b[39m),\u001b[38;5;241m0.7\u001b[39m,cv2\u001b[38;5;241m.\u001b[39mLINE_AA)\n\u001b[0;32m     15\u001b[0m     \u001b[38;5;28;01mif\u001b[39;00m drawing\u001b[38;5;241m==\u001b[39m\u001b[38;5;28;01mTrue\u001b[39;00m:\n\u001b[0;32m     16\u001b[0m         \u001b[38;5;28;01mif\u001b[39;00m mode\u001b[38;5;241m==\u001b[39m \u001b[38;5;28;01mTrue\u001b[39;00m:\n",
      "\u001b[1;31mTypeError\u001b[0m: can only concatenate str (not \"int\") to str"
     ]
    },
    {
     "ename": "TypeError",
     "evalue": "can only concatenate str (not \"int\") to str",
     "output_type": "error",
     "traceback": [
      "\u001b[1;31m---------------------------------------------------------------------------\u001b[0m",
      "\u001b[1;31mTypeError\u001b[0m                                 Traceback (most recent call last)",
      "Cell \u001b[1;32mIn[4], line 14\u001b[0m, in \u001b[0;36mdraw_circle\u001b[1;34m(event, x, y, flags, param)\u001b[0m\n\u001b[0;32m     12\u001b[0m     ix,iy\u001b[38;5;241m=\u001b[39mx,y\n\u001b[0;32m     13\u001b[0m \u001b[38;5;28;01melif\u001b[39;00m event\u001b[38;5;241m==\u001b[39mcv2\u001b[38;5;241m.\u001b[39mEVENT_MOUSEMOVE:\n\u001b[1;32m---> 14\u001b[0m     cv2\u001b[38;5;241m.\u001b[39mputText(img,\u001b[38;5;124;43m'\u001b[39;49m\u001b[38;5;124;43mMouse Position\u001b[39;49m\u001b[38;5;124;43m'\u001b[39;49m\u001b[38;5;241;43m+\u001b[39;49m\u001b[43mix\u001b[49m\u001b[38;5;241m+\u001b[39m\u001b[38;5;124m'\u001b[39m\u001b[38;5;124m ,\u001b[39m\u001b[38;5;124m'\u001b[39m\u001b[38;5;241m+\u001b[39miy,(\u001b[38;5;241m10\u001b[39m,\u001b[38;5;241m50\u001b[39m), font, \u001b[38;5;241m1\u001b[39m,(\u001b[38;5;241m255\u001b[39m,\u001b[38;5;241m255\u001b[39m,\u001b[38;5;241m255\u001b[39m),\u001b[38;5;241m0.7\u001b[39m,cv2\u001b[38;5;241m.\u001b[39mLINE_AA)\n\u001b[0;32m     15\u001b[0m     \u001b[38;5;28;01mif\u001b[39;00m drawing\u001b[38;5;241m==\u001b[39m\u001b[38;5;28;01mTrue\u001b[39;00m:\n\u001b[0;32m     16\u001b[0m         \u001b[38;5;28;01mif\u001b[39;00m mode\u001b[38;5;241m==\u001b[39m \u001b[38;5;28;01mTrue\u001b[39;00m:\n",
      "\u001b[1;31mTypeError\u001b[0m: can only concatenate str (not \"int\") to str"
     ]
    },
    {
     "ename": "TypeError",
     "evalue": "can only concatenate str (not \"int\") to str",
     "output_type": "error",
     "traceback": [
      "\u001b[1;31m---------------------------------------------------------------------------\u001b[0m",
      "\u001b[1;31mTypeError\u001b[0m                                 Traceback (most recent call last)",
      "Cell \u001b[1;32mIn[4], line 14\u001b[0m, in \u001b[0;36mdraw_circle\u001b[1;34m(event, x, y, flags, param)\u001b[0m\n\u001b[0;32m     12\u001b[0m     ix,iy\u001b[38;5;241m=\u001b[39mx,y\n\u001b[0;32m     13\u001b[0m \u001b[38;5;28;01melif\u001b[39;00m event\u001b[38;5;241m==\u001b[39mcv2\u001b[38;5;241m.\u001b[39mEVENT_MOUSEMOVE:\n\u001b[1;32m---> 14\u001b[0m     cv2\u001b[38;5;241m.\u001b[39mputText(img,\u001b[38;5;124;43m'\u001b[39;49m\u001b[38;5;124;43mMouse Position\u001b[39;49m\u001b[38;5;124;43m'\u001b[39;49m\u001b[38;5;241;43m+\u001b[39;49m\u001b[43mix\u001b[49m\u001b[38;5;241m+\u001b[39m\u001b[38;5;124m'\u001b[39m\u001b[38;5;124m ,\u001b[39m\u001b[38;5;124m'\u001b[39m\u001b[38;5;241m+\u001b[39miy,(\u001b[38;5;241m10\u001b[39m,\u001b[38;5;241m50\u001b[39m), font, \u001b[38;5;241m1\u001b[39m,(\u001b[38;5;241m255\u001b[39m,\u001b[38;5;241m255\u001b[39m,\u001b[38;5;241m255\u001b[39m),\u001b[38;5;241m0.7\u001b[39m,cv2\u001b[38;5;241m.\u001b[39mLINE_AA)\n\u001b[0;32m     15\u001b[0m     \u001b[38;5;28;01mif\u001b[39;00m drawing\u001b[38;5;241m==\u001b[39m\u001b[38;5;28;01mTrue\u001b[39;00m:\n\u001b[0;32m     16\u001b[0m         \u001b[38;5;28;01mif\u001b[39;00m mode\u001b[38;5;241m==\u001b[39m \u001b[38;5;28;01mTrue\u001b[39;00m:\n",
      "\u001b[1;31mTypeError\u001b[0m: can only concatenate str (not \"int\") to str"
     ]
    },
    {
     "ename": "TypeError",
     "evalue": "can only concatenate str (not \"int\") to str",
     "output_type": "error",
     "traceback": [
      "\u001b[1;31m---------------------------------------------------------------------------\u001b[0m",
      "\u001b[1;31mTypeError\u001b[0m                                 Traceback (most recent call last)",
      "Cell \u001b[1;32mIn[4], line 14\u001b[0m, in \u001b[0;36mdraw_circle\u001b[1;34m(event, x, y, flags, param)\u001b[0m\n\u001b[0;32m     12\u001b[0m     ix,iy\u001b[38;5;241m=\u001b[39mx,y\n\u001b[0;32m     13\u001b[0m \u001b[38;5;28;01melif\u001b[39;00m event\u001b[38;5;241m==\u001b[39mcv2\u001b[38;5;241m.\u001b[39mEVENT_MOUSEMOVE:\n\u001b[1;32m---> 14\u001b[0m     cv2\u001b[38;5;241m.\u001b[39mputText(img,\u001b[38;5;124;43m'\u001b[39;49m\u001b[38;5;124;43mMouse Position\u001b[39;49m\u001b[38;5;124;43m'\u001b[39;49m\u001b[38;5;241;43m+\u001b[39;49m\u001b[43mix\u001b[49m\u001b[38;5;241m+\u001b[39m\u001b[38;5;124m'\u001b[39m\u001b[38;5;124m ,\u001b[39m\u001b[38;5;124m'\u001b[39m\u001b[38;5;241m+\u001b[39miy,(\u001b[38;5;241m10\u001b[39m,\u001b[38;5;241m50\u001b[39m), font, \u001b[38;5;241m1\u001b[39m,(\u001b[38;5;241m255\u001b[39m,\u001b[38;5;241m255\u001b[39m,\u001b[38;5;241m255\u001b[39m),\u001b[38;5;241m0.7\u001b[39m,cv2\u001b[38;5;241m.\u001b[39mLINE_AA)\n\u001b[0;32m     15\u001b[0m     \u001b[38;5;28;01mif\u001b[39;00m drawing\u001b[38;5;241m==\u001b[39m\u001b[38;5;28;01mTrue\u001b[39;00m:\n\u001b[0;32m     16\u001b[0m         \u001b[38;5;28;01mif\u001b[39;00m mode\u001b[38;5;241m==\u001b[39m \u001b[38;5;28;01mTrue\u001b[39;00m:\n",
      "\u001b[1;31mTypeError\u001b[0m: can only concatenate str (not \"int\") to str"
     ]
    },
    {
     "ename": "TypeError",
     "evalue": "can only concatenate str (not \"int\") to str",
     "output_type": "error",
     "traceback": [
      "\u001b[1;31m---------------------------------------------------------------------------\u001b[0m",
      "\u001b[1;31mTypeError\u001b[0m                                 Traceback (most recent call last)",
      "Cell \u001b[1;32mIn[4], line 14\u001b[0m, in \u001b[0;36mdraw_circle\u001b[1;34m(event, x, y, flags, param)\u001b[0m\n\u001b[0;32m     12\u001b[0m     ix,iy\u001b[38;5;241m=\u001b[39mx,y\n\u001b[0;32m     13\u001b[0m \u001b[38;5;28;01melif\u001b[39;00m event\u001b[38;5;241m==\u001b[39mcv2\u001b[38;5;241m.\u001b[39mEVENT_MOUSEMOVE:\n\u001b[1;32m---> 14\u001b[0m     cv2\u001b[38;5;241m.\u001b[39mputText(img,\u001b[38;5;124;43m'\u001b[39;49m\u001b[38;5;124;43mMouse Position\u001b[39;49m\u001b[38;5;124;43m'\u001b[39;49m\u001b[38;5;241;43m+\u001b[39;49m\u001b[43mix\u001b[49m\u001b[38;5;241m+\u001b[39m\u001b[38;5;124m'\u001b[39m\u001b[38;5;124m ,\u001b[39m\u001b[38;5;124m'\u001b[39m\u001b[38;5;241m+\u001b[39miy,(\u001b[38;5;241m10\u001b[39m,\u001b[38;5;241m50\u001b[39m), font, \u001b[38;5;241m1\u001b[39m,(\u001b[38;5;241m255\u001b[39m,\u001b[38;5;241m255\u001b[39m,\u001b[38;5;241m255\u001b[39m),\u001b[38;5;241m0.7\u001b[39m,cv2\u001b[38;5;241m.\u001b[39mLINE_AA)\n\u001b[0;32m     15\u001b[0m     \u001b[38;5;28;01mif\u001b[39;00m drawing\u001b[38;5;241m==\u001b[39m\u001b[38;5;28;01mTrue\u001b[39;00m:\n\u001b[0;32m     16\u001b[0m         \u001b[38;5;28;01mif\u001b[39;00m mode\u001b[38;5;241m==\u001b[39m \u001b[38;5;28;01mTrue\u001b[39;00m:\n",
      "\u001b[1;31mTypeError\u001b[0m: can only concatenate str (not \"int\") to str"
     ]
    },
    {
     "ename": "TypeError",
     "evalue": "can only concatenate str (not \"int\") to str",
     "output_type": "error",
     "traceback": [
      "\u001b[1;31m---------------------------------------------------------------------------\u001b[0m",
      "\u001b[1;31mTypeError\u001b[0m                                 Traceback (most recent call last)",
      "Cell \u001b[1;32mIn[4], line 14\u001b[0m, in \u001b[0;36mdraw_circle\u001b[1;34m(event, x, y, flags, param)\u001b[0m\n\u001b[0;32m     12\u001b[0m     ix,iy\u001b[38;5;241m=\u001b[39mx,y\n\u001b[0;32m     13\u001b[0m \u001b[38;5;28;01melif\u001b[39;00m event\u001b[38;5;241m==\u001b[39mcv2\u001b[38;5;241m.\u001b[39mEVENT_MOUSEMOVE:\n\u001b[1;32m---> 14\u001b[0m     cv2\u001b[38;5;241m.\u001b[39mputText(img,\u001b[38;5;124;43m'\u001b[39;49m\u001b[38;5;124;43mMouse Position\u001b[39;49m\u001b[38;5;124;43m'\u001b[39;49m\u001b[38;5;241;43m+\u001b[39;49m\u001b[43mix\u001b[49m\u001b[38;5;241m+\u001b[39m\u001b[38;5;124m'\u001b[39m\u001b[38;5;124m ,\u001b[39m\u001b[38;5;124m'\u001b[39m\u001b[38;5;241m+\u001b[39miy,(\u001b[38;5;241m10\u001b[39m,\u001b[38;5;241m50\u001b[39m), font, \u001b[38;5;241m1\u001b[39m,(\u001b[38;5;241m255\u001b[39m,\u001b[38;5;241m255\u001b[39m,\u001b[38;5;241m255\u001b[39m),\u001b[38;5;241m0.7\u001b[39m,cv2\u001b[38;5;241m.\u001b[39mLINE_AA)\n\u001b[0;32m     15\u001b[0m     \u001b[38;5;28;01mif\u001b[39;00m drawing\u001b[38;5;241m==\u001b[39m\u001b[38;5;28;01mTrue\u001b[39;00m:\n\u001b[0;32m     16\u001b[0m         \u001b[38;5;28;01mif\u001b[39;00m mode\u001b[38;5;241m==\u001b[39m \u001b[38;5;28;01mTrue\u001b[39;00m:\n",
      "\u001b[1;31mTypeError\u001b[0m: can only concatenate str (not \"int\") to str"
     ]
    },
    {
     "ename": "TypeError",
     "evalue": "can only concatenate str (not \"int\") to str",
     "output_type": "error",
     "traceback": [
      "\u001b[1;31m---------------------------------------------------------------------------\u001b[0m",
      "\u001b[1;31mTypeError\u001b[0m                                 Traceback (most recent call last)",
      "Cell \u001b[1;32mIn[4], line 14\u001b[0m, in \u001b[0;36mdraw_circle\u001b[1;34m(event, x, y, flags, param)\u001b[0m\n\u001b[0;32m     12\u001b[0m     ix,iy\u001b[38;5;241m=\u001b[39mx,y\n\u001b[0;32m     13\u001b[0m \u001b[38;5;28;01melif\u001b[39;00m event\u001b[38;5;241m==\u001b[39mcv2\u001b[38;5;241m.\u001b[39mEVENT_MOUSEMOVE:\n\u001b[1;32m---> 14\u001b[0m     cv2\u001b[38;5;241m.\u001b[39mputText(img,\u001b[38;5;124;43m'\u001b[39;49m\u001b[38;5;124;43mMouse Position\u001b[39;49m\u001b[38;5;124;43m'\u001b[39;49m\u001b[38;5;241;43m+\u001b[39;49m\u001b[43mix\u001b[49m\u001b[38;5;241m+\u001b[39m\u001b[38;5;124m'\u001b[39m\u001b[38;5;124m ,\u001b[39m\u001b[38;5;124m'\u001b[39m\u001b[38;5;241m+\u001b[39miy,(\u001b[38;5;241m10\u001b[39m,\u001b[38;5;241m50\u001b[39m), font, \u001b[38;5;241m1\u001b[39m,(\u001b[38;5;241m255\u001b[39m,\u001b[38;5;241m255\u001b[39m,\u001b[38;5;241m255\u001b[39m),\u001b[38;5;241m0.7\u001b[39m,cv2\u001b[38;5;241m.\u001b[39mLINE_AA)\n\u001b[0;32m     15\u001b[0m     \u001b[38;5;28;01mif\u001b[39;00m drawing\u001b[38;5;241m==\u001b[39m\u001b[38;5;28;01mTrue\u001b[39;00m:\n\u001b[0;32m     16\u001b[0m         \u001b[38;5;28;01mif\u001b[39;00m mode\u001b[38;5;241m==\u001b[39m \u001b[38;5;28;01mTrue\u001b[39;00m:\n",
      "\u001b[1;31mTypeError\u001b[0m: can only concatenate str (not \"int\") to str"
     ]
    },
    {
     "ename": "TypeError",
     "evalue": "can only concatenate str (not \"int\") to str",
     "output_type": "error",
     "traceback": [
      "\u001b[1;31m---------------------------------------------------------------------------\u001b[0m",
      "\u001b[1;31mTypeError\u001b[0m                                 Traceback (most recent call last)",
      "Cell \u001b[1;32mIn[4], line 14\u001b[0m, in \u001b[0;36mdraw_circle\u001b[1;34m(event, x, y, flags, param)\u001b[0m\n\u001b[0;32m     12\u001b[0m     ix,iy\u001b[38;5;241m=\u001b[39mx,y\n\u001b[0;32m     13\u001b[0m \u001b[38;5;28;01melif\u001b[39;00m event\u001b[38;5;241m==\u001b[39mcv2\u001b[38;5;241m.\u001b[39mEVENT_MOUSEMOVE:\n\u001b[1;32m---> 14\u001b[0m     cv2\u001b[38;5;241m.\u001b[39mputText(img,\u001b[38;5;124;43m'\u001b[39;49m\u001b[38;5;124;43mMouse Position\u001b[39;49m\u001b[38;5;124;43m'\u001b[39;49m\u001b[38;5;241;43m+\u001b[39;49m\u001b[43mix\u001b[49m\u001b[38;5;241m+\u001b[39m\u001b[38;5;124m'\u001b[39m\u001b[38;5;124m ,\u001b[39m\u001b[38;5;124m'\u001b[39m\u001b[38;5;241m+\u001b[39miy,(\u001b[38;5;241m10\u001b[39m,\u001b[38;5;241m50\u001b[39m), font, \u001b[38;5;241m1\u001b[39m,(\u001b[38;5;241m255\u001b[39m,\u001b[38;5;241m255\u001b[39m,\u001b[38;5;241m255\u001b[39m),\u001b[38;5;241m0.7\u001b[39m,cv2\u001b[38;5;241m.\u001b[39mLINE_AA)\n\u001b[0;32m     15\u001b[0m     \u001b[38;5;28;01mif\u001b[39;00m drawing\u001b[38;5;241m==\u001b[39m\u001b[38;5;28;01mTrue\u001b[39;00m:\n\u001b[0;32m     16\u001b[0m         \u001b[38;5;28;01mif\u001b[39;00m mode\u001b[38;5;241m==\u001b[39m \u001b[38;5;28;01mTrue\u001b[39;00m:\n",
      "\u001b[1;31mTypeError\u001b[0m: can only concatenate str (not \"int\") to str"
     ]
    },
    {
     "ename": "TypeError",
     "evalue": "can only concatenate str (not \"int\") to str",
     "output_type": "error",
     "traceback": [
      "\u001b[1;31m---------------------------------------------------------------------------\u001b[0m",
      "\u001b[1;31mTypeError\u001b[0m                                 Traceback (most recent call last)",
      "Cell \u001b[1;32mIn[4], line 14\u001b[0m, in \u001b[0;36mdraw_circle\u001b[1;34m(event, x, y, flags, param)\u001b[0m\n\u001b[0;32m     12\u001b[0m     ix,iy\u001b[38;5;241m=\u001b[39mx,y\n\u001b[0;32m     13\u001b[0m \u001b[38;5;28;01melif\u001b[39;00m event\u001b[38;5;241m==\u001b[39mcv2\u001b[38;5;241m.\u001b[39mEVENT_MOUSEMOVE:\n\u001b[1;32m---> 14\u001b[0m     cv2\u001b[38;5;241m.\u001b[39mputText(img,\u001b[38;5;124;43m'\u001b[39;49m\u001b[38;5;124;43mMouse Position\u001b[39;49m\u001b[38;5;124;43m'\u001b[39;49m\u001b[38;5;241;43m+\u001b[39;49m\u001b[43mix\u001b[49m\u001b[38;5;241m+\u001b[39m\u001b[38;5;124m'\u001b[39m\u001b[38;5;124m ,\u001b[39m\u001b[38;5;124m'\u001b[39m\u001b[38;5;241m+\u001b[39miy,(\u001b[38;5;241m10\u001b[39m,\u001b[38;5;241m50\u001b[39m), font, \u001b[38;5;241m1\u001b[39m,(\u001b[38;5;241m255\u001b[39m,\u001b[38;5;241m255\u001b[39m,\u001b[38;5;241m255\u001b[39m),\u001b[38;5;241m0.7\u001b[39m,cv2\u001b[38;5;241m.\u001b[39mLINE_AA)\n\u001b[0;32m     15\u001b[0m     \u001b[38;5;28;01mif\u001b[39;00m drawing\u001b[38;5;241m==\u001b[39m\u001b[38;5;28;01mTrue\u001b[39;00m:\n\u001b[0;32m     16\u001b[0m         \u001b[38;5;28;01mif\u001b[39;00m mode\u001b[38;5;241m==\u001b[39m \u001b[38;5;28;01mTrue\u001b[39;00m:\n",
      "\u001b[1;31mTypeError\u001b[0m: can only concatenate str (not \"int\") to str"
     ]
    },
    {
     "ename": "TypeError",
     "evalue": "can only concatenate str (not \"int\") to str",
     "output_type": "error",
     "traceback": [
      "\u001b[1;31m---------------------------------------------------------------------------\u001b[0m",
      "\u001b[1;31mTypeError\u001b[0m                                 Traceback (most recent call last)",
      "Cell \u001b[1;32mIn[4], line 14\u001b[0m, in \u001b[0;36mdraw_circle\u001b[1;34m(event, x, y, flags, param)\u001b[0m\n\u001b[0;32m     12\u001b[0m     ix,iy\u001b[38;5;241m=\u001b[39mx,y\n\u001b[0;32m     13\u001b[0m \u001b[38;5;28;01melif\u001b[39;00m event\u001b[38;5;241m==\u001b[39mcv2\u001b[38;5;241m.\u001b[39mEVENT_MOUSEMOVE:\n\u001b[1;32m---> 14\u001b[0m     cv2\u001b[38;5;241m.\u001b[39mputText(img,\u001b[38;5;124;43m'\u001b[39;49m\u001b[38;5;124;43mMouse Position\u001b[39;49m\u001b[38;5;124;43m'\u001b[39;49m\u001b[38;5;241;43m+\u001b[39;49m\u001b[43mix\u001b[49m\u001b[38;5;241m+\u001b[39m\u001b[38;5;124m'\u001b[39m\u001b[38;5;124m ,\u001b[39m\u001b[38;5;124m'\u001b[39m\u001b[38;5;241m+\u001b[39miy,(\u001b[38;5;241m10\u001b[39m,\u001b[38;5;241m50\u001b[39m), font, \u001b[38;5;241m1\u001b[39m,(\u001b[38;5;241m255\u001b[39m,\u001b[38;5;241m255\u001b[39m,\u001b[38;5;241m255\u001b[39m),\u001b[38;5;241m0.7\u001b[39m,cv2\u001b[38;5;241m.\u001b[39mLINE_AA)\n\u001b[0;32m     15\u001b[0m     \u001b[38;5;28;01mif\u001b[39;00m drawing\u001b[38;5;241m==\u001b[39m\u001b[38;5;28;01mTrue\u001b[39;00m:\n\u001b[0;32m     16\u001b[0m         \u001b[38;5;28;01mif\u001b[39;00m mode\u001b[38;5;241m==\u001b[39m \u001b[38;5;28;01mTrue\u001b[39;00m:\n",
      "\u001b[1;31mTypeError\u001b[0m: can only concatenate str (not \"int\") to str"
     ]
    },
    {
     "ename": "TypeError",
     "evalue": "can only concatenate str (not \"int\") to str",
     "output_type": "error",
     "traceback": [
      "\u001b[1;31m---------------------------------------------------------------------------\u001b[0m",
      "\u001b[1;31mTypeError\u001b[0m                                 Traceback (most recent call last)",
      "Cell \u001b[1;32mIn[4], line 14\u001b[0m, in \u001b[0;36mdraw_circle\u001b[1;34m(event, x, y, flags, param)\u001b[0m\n\u001b[0;32m     12\u001b[0m     ix,iy\u001b[38;5;241m=\u001b[39mx,y\n\u001b[0;32m     13\u001b[0m \u001b[38;5;28;01melif\u001b[39;00m event\u001b[38;5;241m==\u001b[39mcv2\u001b[38;5;241m.\u001b[39mEVENT_MOUSEMOVE:\n\u001b[1;32m---> 14\u001b[0m     cv2\u001b[38;5;241m.\u001b[39mputText(img,\u001b[38;5;124;43m'\u001b[39;49m\u001b[38;5;124;43mMouse Position\u001b[39;49m\u001b[38;5;124;43m'\u001b[39;49m\u001b[38;5;241;43m+\u001b[39;49m\u001b[43mix\u001b[49m\u001b[38;5;241m+\u001b[39m\u001b[38;5;124m'\u001b[39m\u001b[38;5;124m ,\u001b[39m\u001b[38;5;124m'\u001b[39m\u001b[38;5;241m+\u001b[39miy,(\u001b[38;5;241m10\u001b[39m,\u001b[38;5;241m50\u001b[39m), font, \u001b[38;5;241m1\u001b[39m,(\u001b[38;5;241m255\u001b[39m,\u001b[38;5;241m255\u001b[39m,\u001b[38;5;241m255\u001b[39m),\u001b[38;5;241m0.7\u001b[39m,cv2\u001b[38;5;241m.\u001b[39mLINE_AA)\n\u001b[0;32m     15\u001b[0m     \u001b[38;5;28;01mif\u001b[39;00m drawing\u001b[38;5;241m==\u001b[39m\u001b[38;5;28;01mTrue\u001b[39;00m:\n\u001b[0;32m     16\u001b[0m         \u001b[38;5;28;01mif\u001b[39;00m mode\u001b[38;5;241m==\u001b[39m \u001b[38;5;28;01mTrue\u001b[39;00m:\n",
      "\u001b[1;31mTypeError\u001b[0m: can only concatenate str (not \"int\") to str"
     ]
    },
    {
     "ename": "TypeError",
     "evalue": "can only concatenate str (not \"int\") to str",
     "output_type": "error",
     "traceback": [
      "\u001b[1;31m---------------------------------------------------------------------------\u001b[0m",
      "\u001b[1;31mTypeError\u001b[0m                                 Traceback (most recent call last)",
      "Cell \u001b[1;32mIn[4], line 14\u001b[0m, in \u001b[0;36mdraw_circle\u001b[1;34m(event, x, y, flags, param)\u001b[0m\n\u001b[0;32m     12\u001b[0m     ix,iy\u001b[38;5;241m=\u001b[39mx,y\n\u001b[0;32m     13\u001b[0m \u001b[38;5;28;01melif\u001b[39;00m event\u001b[38;5;241m==\u001b[39mcv2\u001b[38;5;241m.\u001b[39mEVENT_MOUSEMOVE:\n\u001b[1;32m---> 14\u001b[0m     cv2\u001b[38;5;241m.\u001b[39mputText(img,\u001b[38;5;124;43m'\u001b[39;49m\u001b[38;5;124;43mMouse Position\u001b[39;49m\u001b[38;5;124;43m'\u001b[39;49m\u001b[38;5;241;43m+\u001b[39;49m\u001b[43mix\u001b[49m\u001b[38;5;241m+\u001b[39m\u001b[38;5;124m'\u001b[39m\u001b[38;5;124m ,\u001b[39m\u001b[38;5;124m'\u001b[39m\u001b[38;5;241m+\u001b[39miy,(\u001b[38;5;241m10\u001b[39m,\u001b[38;5;241m50\u001b[39m), font, \u001b[38;5;241m1\u001b[39m,(\u001b[38;5;241m255\u001b[39m,\u001b[38;5;241m255\u001b[39m,\u001b[38;5;241m255\u001b[39m),\u001b[38;5;241m0.7\u001b[39m,cv2\u001b[38;5;241m.\u001b[39mLINE_AA)\n\u001b[0;32m     15\u001b[0m     \u001b[38;5;28;01mif\u001b[39;00m drawing\u001b[38;5;241m==\u001b[39m\u001b[38;5;28;01mTrue\u001b[39;00m:\n\u001b[0;32m     16\u001b[0m         \u001b[38;5;28;01mif\u001b[39;00m mode\u001b[38;5;241m==\u001b[39m \u001b[38;5;28;01mTrue\u001b[39;00m:\n",
      "\u001b[1;31mTypeError\u001b[0m: can only concatenate str (not \"int\") to str"
     ]
    },
    {
     "ename": "TypeError",
     "evalue": "can only concatenate str (not \"int\") to str",
     "output_type": "error",
     "traceback": [
      "\u001b[1;31m---------------------------------------------------------------------------\u001b[0m",
      "\u001b[1;31mTypeError\u001b[0m                                 Traceback (most recent call last)",
      "Cell \u001b[1;32mIn[4], line 14\u001b[0m, in \u001b[0;36mdraw_circle\u001b[1;34m(event, x, y, flags, param)\u001b[0m\n\u001b[0;32m     12\u001b[0m     ix,iy\u001b[38;5;241m=\u001b[39mx,y\n\u001b[0;32m     13\u001b[0m \u001b[38;5;28;01melif\u001b[39;00m event\u001b[38;5;241m==\u001b[39mcv2\u001b[38;5;241m.\u001b[39mEVENT_MOUSEMOVE:\n\u001b[1;32m---> 14\u001b[0m     cv2\u001b[38;5;241m.\u001b[39mputText(img,\u001b[38;5;124;43m'\u001b[39;49m\u001b[38;5;124;43mMouse Position\u001b[39;49m\u001b[38;5;124;43m'\u001b[39;49m\u001b[38;5;241;43m+\u001b[39;49m\u001b[43mix\u001b[49m\u001b[38;5;241m+\u001b[39m\u001b[38;5;124m'\u001b[39m\u001b[38;5;124m ,\u001b[39m\u001b[38;5;124m'\u001b[39m\u001b[38;5;241m+\u001b[39miy,(\u001b[38;5;241m10\u001b[39m,\u001b[38;5;241m50\u001b[39m), font, \u001b[38;5;241m1\u001b[39m,(\u001b[38;5;241m255\u001b[39m,\u001b[38;5;241m255\u001b[39m,\u001b[38;5;241m255\u001b[39m),\u001b[38;5;241m0.7\u001b[39m,cv2\u001b[38;5;241m.\u001b[39mLINE_AA)\n\u001b[0;32m     15\u001b[0m     \u001b[38;5;28;01mif\u001b[39;00m drawing\u001b[38;5;241m==\u001b[39m\u001b[38;5;28;01mTrue\u001b[39;00m:\n\u001b[0;32m     16\u001b[0m         \u001b[38;5;28;01mif\u001b[39;00m mode\u001b[38;5;241m==\u001b[39m \u001b[38;5;28;01mTrue\u001b[39;00m:\n",
      "\u001b[1;31mTypeError\u001b[0m: can only concatenate str (not \"int\") to str"
     ]
    },
    {
     "ename": "TypeError",
     "evalue": "can only concatenate str (not \"int\") to str",
     "output_type": "error",
     "traceback": [
      "\u001b[1;31m---------------------------------------------------------------------------\u001b[0m",
      "\u001b[1;31mTypeError\u001b[0m                                 Traceback (most recent call last)",
      "Cell \u001b[1;32mIn[4], line 14\u001b[0m, in \u001b[0;36mdraw_circle\u001b[1;34m(event, x, y, flags, param)\u001b[0m\n\u001b[0;32m     12\u001b[0m     ix,iy\u001b[38;5;241m=\u001b[39mx,y\n\u001b[0;32m     13\u001b[0m \u001b[38;5;28;01melif\u001b[39;00m event\u001b[38;5;241m==\u001b[39mcv2\u001b[38;5;241m.\u001b[39mEVENT_MOUSEMOVE:\n\u001b[1;32m---> 14\u001b[0m     cv2\u001b[38;5;241m.\u001b[39mputText(img,\u001b[38;5;124;43m'\u001b[39;49m\u001b[38;5;124;43mMouse Position\u001b[39;49m\u001b[38;5;124;43m'\u001b[39;49m\u001b[38;5;241;43m+\u001b[39;49m\u001b[43mix\u001b[49m\u001b[38;5;241m+\u001b[39m\u001b[38;5;124m'\u001b[39m\u001b[38;5;124m ,\u001b[39m\u001b[38;5;124m'\u001b[39m\u001b[38;5;241m+\u001b[39miy,(\u001b[38;5;241m10\u001b[39m,\u001b[38;5;241m50\u001b[39m), font, \u001b[38;5;241m1\u001b[39m,(\u001b[38;5;241m255\u001b[39m,\u001b[38;5;241m255\u001b[39m,\u001b[38;5;241m255\u001b[39m),\u001b[38;5;241m0.7\u001b[39m,cv2\u001b[38;5;241m.\u001b[39mLINE_AA)\n\u001b[0;32m     15\u001b[0m     \u001b[38;5;28;01mif\u001b[39;00m drawing\u001b[38;5;241m==\u001b[39m\u001b[38;5;28;01mTrue\u001b[39;00m:\n\u001b[0;32m     16\u001b[0m         \u001b[38;5;28;01mif\u001b[39;00m mode\u001b[38;5;241m==\u001b[39m \u001b[38;5;28;01mTrue\u001b[39;00m:\n",
      "\u001b[1;31mTypeError\u001b[0m: can only concatenate str (not \"int\") to str"
     ]
    },
    {
     "ename": "TypeError",
     "evalue": "can only concatenate str (not \"int\") to str",
     "output_type": "error",
     "traceback": [
      "\u001b[1;31m---------------------------------------------------------------------------\u001b[0m",
      "\u001b[1;31mTypeError\u001b[0m                                 Traceback (most recent call last)",
      "Cell \u001b[1;32mIn[4], line 14\u001b[0m, in \u001b[0;36mdraw_circle\u001b[1;34m(event, x, y, flags, param)\u001b[0m\n\u001b[0;32m     12\u001b[0m     ix,iy\u001b[38;5;241m=\u001b[39mx,y\n\u001b[0;32m     13\u001b[0m \u001b[38;5;28;01melif\u001b[39;00m event\u001b[38;5;241m==\u001b[39mcv2\u001b[38;5;241m.\u001b[39mEVENT_MOUSEMOVE:\n\u001b[1;32m---> 14\u001b[0m     cv2\u001b[38;5;241m.\u001b[39mputText(img,\u001b[38;5;124;43m'\u001b[39;49m\u001b[38;5;124;43mMouse Position\u001b[39;49m\u001b[38;5;124;43m'\u001b[39;49m\u001b[38;5;241;43m+\u001b[39;49m\u001b[43mix\u001b[49m\u001b[38;5;241m+\u001b[39m\u001b[38;5;124m'\u001b[39m\u001b[38;5;124m ,\u001b[39m\u001b[38;5;124m'\u001b[39m\u001b[38;5;241m+\u001b[39miy,(\u001b[38;5;241m10\u001b[39m,\u001b[38;5;241m50\u001b[39m), font, \u001b[38;5;241m1\u001b[39m,(\u001b[38;5;241m255\u001b[39m,\u001b[38;5;241m255\u001b[39m,\u001b[38;5;241m255\u001b[39m),\u001b[38;5;241m0.7\u001b[39m,cv2\u001b[38;5;241m.\u001b[39mLINE_AA)\n\u001b[0;32m     15\u001b[0m     \u001b[38;5;28;01mif\u001b[39;00m drawing\u001b[38;5;241m==\u001b[39m\u001b[38;5;28;01mTrue\u001b[39;00m:\n\u001b[0;32m     16\u001b[0m         \u001b[38;5;28;01mif\u001b[39;00m mode\u001b[38;5;241m==\u001b[39m \u001b[38;5;28;01mTrue\u001b[39;00m:\n",
      "\u001b[1;31mTypeError\u001b[0m: can only concatenate str (not \"int\") to str"
     ]
    },
    {
     "ename": "TypeError",
     "evalue": "can only concatenate str (not \"int\") to str",
     "output_type": "error",
     "traceback": [
      "\u001b[1;31m---------------------------------------------------------------------------\u001b[0m",
      "\u001b[1;31mTypeError\u001b[0m                                 Traceback (most recent call last)",
      "Cell \u001b[1;32mIn[4], line 14\u001b[0m, in \u001b[0;36mdraw_circle\u001b[1;34m(event, x, y, flags, param)\u001b[0m\n\u001b[0;32m     12\u001b[0m     ix,iy\u001b[38;5;241m=\u001b[39mx,y\n\u001b[0;32m     13\u001b[0m \u001b[38;5;28;01melif\u001b[39;00m event\u001b[38;5;241m==\u001b[39mcv2\u001b[38;5;241m.\u001b[39mEVENT_MOUSEMOVE:\n\u001b[1;32m---> 14\u001b[0m     cv2\u001b[38;5;241m.\u001b[39mputText(img,\u001b[38;5;124;43m'\u001b[39;49m\u001b[38;5;124;43mMouse Position\u001b[39;49m\u001b[38;5;124;43m'\u001b[39;49m\u001b[38;5;241;43m+\u001b[39;49m\u001b[43mix\u001b[49m\u001b[38;5;241m+\u001b[39m\u001b[38;5;124m'\u001b[39m\u001b[38;5;124m ,\u001b[39m\u001b[38;5;124m'\u001b[39m\u001b[38;5;241m+\u001b[39miy,(\u001b[38;5;241m10\u001b[39m,\u001b[38;5;241m50\u001b[39m), font, \u001b[38;5;241m1\u001b[39m,(\u001b[38;5;241m255\u001b[39m,\u001b[38;5;241m255\u001b[39m,\u001b[38;5;241m255\u001b[39m),\u001b[38;5;241m0.7\u001b[39m,cv2\u001b[38;5;241m.\u001b[39mLINE_AA)\n\u001b[0;32m     15\u001b[0m     \u001b[38;5;28;01mif\u001b[39;00m drawing\u001b[38;5;241m==\u001b[39m\u001b[38;5;28;01mTrue\u001b[39;00m:\n\u001b[0;32m     16\u001b[0m         \u001b[38;5;28;01mif\u001b[39;00m mode\u001b[38;5;241m==\u001b[39m \u001b[38;5;28;01mTrue\u001b[39;00m:\n",
      "\u001b[1;31mTypeError\u001b[0m: can only concatenate str (not \"int\") to str"
     ]
    },
    {
     "ename": "TypeError",
     "evalue": "can only concatenate str (not \"int\") to str",
     "output_type": "error",
     "traceback": [
      "\u001b[1;31m---------------------------------------------------------------------------\u001b[0m",
      "\u001b[1;31mTypeError\u001b[0m                                 Traceback (most recent call last)",
      "Cell \u001b[1;32mIn[4], line 14\u001b[0m, in \u001b[0;36mdraw_circle\u001b[1;34m(event, x, y, flags, param)\u001b[0m\n\u001b[0;32m     12\u001b[0m     ix,iy\u001b[38;5;241m=\u001b[39mx,y\n\u001b[0;32m     13\u001b[0m \u001b[38;5;28;01melif\u001b[39;00m event\u001b[38;5;241m==\u001b[39mcv2\u001b[38;5;241m.\u001b[39mEVENT_MOUSEMOVE:\n\u001b[1;32m---> 14\u001b[0m     cv2\u001b[38;5;241m.\u001b[39mputText(img,\u001b[38;5;124;43m'\u001b[39;49m\u001b[38;5;124;43mMouse Position\u001b[39;49m\u001b[38;5;124;43m'\u001b[39;49m\u001b[38;5;241;43m+\u001b[39;49m\u001b[43mix\u001b[49m\u001b[38;5;241m+\u001b[39m\u001b[38;5;124m'\u001b[39m\u001b[38;5;124m ,\u001b[39m\u001b[38;5;124m'\u001b[39m\u001b[38;5;241m+\u001b[39miy,(\u001b[38;5;241m10\u001b[39m,\u001b[38;5;241m50\u001b[39m), font, \u001b[38;5;241m1\u001b[39m,(\u001b[38;5;241m255\u001b[39m,\u001b[38;5;241m255\u001b[39m,\u001b[38;5;241m255\u001b[39m),\u001b[38;5;241m0.7\u001b[39m,cv2\u001b[38;5;241m.\u001b[39mLINE_AA)\n\u001b[0;32m     15\u001b[0m     \u001b[38;5;28;01mif\u001b[39;00m drawing\u001b[38;5;241m==\u001b[39m\u001b[38;5;28;01mTrue\u001b[39;00m:\n\u001b[0;32m     16\u001b[0m         \u001b[38;5;28;01mif\u001b[39;00m mode\u001b[38;5;241m==\u001b[39m \u001b[38;5;28;01mTrue\u001b[39;00m:\n",
      "\u001b[1;31mTypeError\u001b[0m: can only concatenate str (not \"int\") to str"
     ]
    },
    {
     "ename": "TypeError",
     "evalue": "can only concatenate str (not \"int\") to str",
     "output_type": "error",
     "traceback": [
      "\u001b[1;31m---------------------------------------------------------------------------\u001b[0m",
      "\u001b[1;31mTypeError\u001b[0m                                 Traceback (most recent call last)",
      "Cell \u001b[1;32mIn[4], line 14\u001b[0m, in \u001b[0;36mdraw_circle\u001b[1;34m(event, x, y, flags, param)\u001b[0m\n\u001b[0;32m     12\u001b[0m     ix,iy\u001b[38;5;241m=\u001b[39mx,y\n\u001b[0;32m     13\u001b[0m \u001b[38;5;28;01melif\u001b[39;00m event\u001b[38;5;241m==\u001b[39mcv2\u001b[38;5;241m.\u001b[39mEVENT_MOUSEMOVE:\n\u001b[1;32m---> 14\u001b[0m     cv2\u001b[38;5;241m.\u001b[39mputText(img,\u001b[38;5;124;43m'\u001b[39;49m\u001b[38;5;124;43mMouse Position\u001b[39;49m\u001b[38;5;124;43m'\u001b[39;49m\u001b[38;5;241;43m+\u001b[39;49m\u001b[43mix\u001b[49m\u001b[38;5;241m+\u001b[39m\u001b[38;5;124m'\u001b[39m\u001b[38;5;124m ,\u001b[39m\u001b[38;5;124m'\u001b[39m\u001b[38;5;241m+\u001b[39miy,(\u001b[38;5;241m10\u001b[39m,\u001b[38;5;241m50\u001b[39m), font, \u001b[38;5;241m1\u001b[39m,(\u001b[38;5;241m255\u001b[39m,\u001b[38;5;241m255\u001b[39m,\u001b[38;5;241m255\u001b[39m),\u001b[38;5;241m0.7\u001b[39m,cv2\u001b[38;5;241m.\u001b[39mLINE_AA)\n\u001b[0;32m     15\u001b[0m     \u001b[38;5;28;01mif\u001b[39;00m drawing\u001b[38;5;241m==\u001b[39m\u001b[38;5;28;01mTrue\u001b[39;00m:\n\u001b[0;32m     16\u001b[0m         \u001b[38;5;28;01mif\u001b[39;00m mode\u001b[38;5;241m==\u001b[39m \u001b[38;5;28;01mTrue\u001b[39;00m:\n",
      "\u001b[1;31mTypeError\u001b[0m: can only concatenate str (not \"int\") to str"
     ]
    },
    {
     "ename": "TypeError",
     "evalue": "can only concatenate str (not \"int\") to str",
     "output_type": "error",
     "traceback": [
      "\u001b[1;31m---------------------------------------------------------------------------\u001b[0m",
      "\u001b[1;31mTypeError\u001b[0m                                 Traceback (most recent call last)",
      "Cell \u001b[1;32mIn[4], line 14\u001b[0m, in \u001b[0;36mdraw_circle\u001b[1;34m(event, x, y, flags, param)\u001b[0m\n\u001b[0;32m     12\u001b[0m     ix,iy\u001b[38;5;241m=\u001b[39mx,y\n\u001b[0;32m     13\u001b[0m \u001b[38;5;28;01melif\u001b[39;00m event\u001b[38;5;241m==\u001b[39mcv2\u001b[38;5;241m.\u001b[39mEVENT_MOUSEMOVE:\n\u001b[1;32m---> 14\u001b[0m     cv2\u001b[38;5;241m.\u001b[39mputText(img,\u001b[38;5;124;43m'\u001b[39;49m\u001b[38;5;124;43mMouse Position\u001b[39;49m\u001b[38;5;124;43m'\u001b[39;49m\u001b[38;5;241;43m+\u001b[39;49m\u001b[43mix\u001b[49m\u001b[38;5;241m+\u001b[39m\u001b[38;5;124m'\u001b[39m\u001b[38;5;124m ,\u001b[39m\u001b[38;5;124m'\u001b[39m\u001b[38;5;241m+\u001b[39miy,(\u001b[38;5;241m10\u001b[39m,\u001b[38;5;241m50\u001b[39m), font, \u001b[38;5;241m1\u001b[39m,(\u001b[38;5;241m255\u001b[39m,\u001b[38;5;241m255\u001b[39m,\u001b[38;5;241m255\u001b[39m),\u001b[38;5;241m0.7\u001b[39m,cv2\u001b[38;5;241m.\u001b[39mLINE_AA)\n\u001b[0;32m     15\u001b[0m     \u001b[38;5;28;01mif\u001b[39;00m drawing\u001b[38;5;241m==\u001b[39m\u001b[38;5;28;01mTrue\u001b[39;00m:\n\u001b[0;32m     16\u001b[0m         \u001b[38;5;28;01mif\u001b[39;00m mode\u001b[38;5;241m==\u001b[39m \u001b[38;5;28;01mTrue\u001b[39;00m:\n",
      "\u001b[1;31mTypeError\u001b[0m: can only concatenate str (not \"int\") to str"
     ]
    },
    {
     "ename": "TypeError",
     "evalue": "can only concatenate str (not \"int\") to str",
     "output_type": "error",
     "traceback": [
      "\u001b[1;31m---------------------------------------------------------------------------\u001b[0m",
      "\u001b[1;31mTypeError\u001b[0m                                 Traceback (most recent call last)",
      "Cell \u001b[1;32mIn[4], line 14\u001b[0m, in \u001b[0;36mdraw_circle\u001b[1;34m(event, x, y, flags, param)\u001b[0m\n\u001b[0;32m     12\u001b[0m     ix,iy\u001b[38;5;241m=\u001b[39mx,y\n\u001b[0;32m     13\u001b[0m \u001b[38;5;28;01melif\u001b[39;00m event\u001b[38;5;241m==\u001b[39mcv2\u001b[38;5;241m.\u001b[39mEVENT_MOUSEMOVE:\n\u001b[1;32m---> 14\u001b[0m     cv2\u001b[38;5;241m.\u001b[39mputText(img,\u001b[38;5;124;43m'\u001b[39;49m\u001b[38;5;124;43mMouse Position\u001b[39;49m\u001b[38;5;124;43m'\u001b[39;49m\u001b[38;5;241;43m+\u001b[39;49m\u001b[43mix\u001b[49m\u001b[38;5;241m+\u001b[39m\u001b[38;5;124m'\u001b[39m\u001b[38;5;124m ,\u001b[39m\u001b[38;5;124m'\u001b[39m\u001b[38;5;241m+\u001b[39miy,(\u001b[38;5;241m10\u001b[39m,\u001b[38;5;241m50\u001b[39m), font, \u001b[38;5;241m1\u001b[39m,(\u001b[38;5;241m255\u001b[39m,\u001b[38;5;241m255\u001b[39m,\u001b[38;5;241m255\u001b[39m),\u001b[38;5;241m0.7\u001b[39m,cv2\u001b[38;5;241m.\u001b[39mLINE_AA)\n\u001b[0;32m     15\u001b[0m     \u001b[38;5;28;01mif\u001b[39;00m drawing\u001b[38;5;241m==\u001b[39m\u001b[38;5;28;01mTrue\u001b[39;00m:\n\u001b[0;32m     16\u001b[0m         \u001b[38;5;28;01mif\u001b[39;00m mode\u001b[38;5;241m==\u001b[39m \u001b[38;5;28;01mTrue\u001b[39;00m:\n",
      "\u001b[1;31mTypeError\u001b[0m: can only concatenate str (not \"int\") to str"
     ]
    },
    {
     "ename": "TypeError",
     "evalue": "can only concatenate str (not \"int\") to str",
     "output_type": "error",
     "traceback": [
      "\u001b[1;31m---------------------------------------------------------------------------\u001b[0m",
      "\u001b[1;31mTypeError\u001b[0m                                 Traceback (most recent call last)",
      "Cell \u001b[1;32mIn[4], line 14\u001b[0m, in \u001b[0;36mdraw_circle\u001b[1;34m(event, x, y, flags, param)\u001b[0m\n\u001b[0;32m     12\u001b[0m     ix,iy\u001b[38;5;241m=\u001b[39mx,y\n\u001b[0;32m     13\u001b[0m \u001b[38;5;28;01melif\u001b[39;00m event\u001b[38;5;241m==\u001b[39mcv2\u001b[38;5;241m.\u001b[39mEVENT_MOUSEMOVE:\n\u001b[1;32m---> 14\u001b[0m     cv2\u001b[38;5;241m.\u001b[39mputText(img,\u001b[38;5;124;43m'\u001b[39;49m\u001b[38;5;124;43mMouse Position\u001b[39;49m\u001b[38;5;124;43m'\u001b[39;49m\u001b[38;5;241;43m+\u001b[39;49m\u001b[43mix\u001b[49m\u001b[38;5;241m+\u001b[39m\u001b[38;5;124m'\u001b[39m\u001b[38;5;124m ,\u001b[39m\u001b[38;5;124m'\u001b[39m\u001b[38;5;241m+\u001b[39miy,(\u001b[38;5;241m10\u001b[39m,\u001b[38;5;241m50\u001b[39m), font, \u001b[38;5;241m1\u001b[39m,(\u001b[38;5;241m255\u001b[39m,\u001b[38;5;241m255\u001b[39m,\u001b[38;5;241m255\u001b[39m),\u001b[38;5;241m0.7\u001b[39m,cv2\u001b[38;5;241m.\u001b[39mLINE_AA)\n\u001b[0;32m     15\u001b[0m     \u001b[38;5;28;01mif\u001b[39;00m drawing\u001b[38;5;241m==\u001b[39m\u001b[38;5;28;01mTrue\u001b[39;00m:\n\u001b[0;32m     16\u001b[0m         \u001b[38;5;28;01mif\u001b[39;00m mode\u001b[38;5;241m==\u001b[39m \u001b[38;5;28;01mTrue\u001b[39;00m:\n",
      "\u001b[1;31mTypeError\u001b[0m: can only concatenate str (not \"int\") to str"
     ]
    },
    {
     "ename": "TypeError",
     "evalue": "can only concatenate str (not \"int\") to str",
     "output_type": "error",
     "traceback": [
      "\u001b[1;31m---------------------------------------------------------------------------\u001b[0m",
      "\u001b[1;31mTypeError\u001b[0m                                 Traceback (most recent call last)",
      "Cell \u001b[1;32mIn[4], line 14\u001b[0m, in \u001b[0;36mdraw_circle\u001b[1;34m(event, x, y, flags, param)\u001b[0m\n\u001b[0;32m     12\u001b[0m     ix,iy\u001b[38;5;241m=\u001b[39mx,y\n\u001b[0;32m     13\u001b[0m \u001b[38;5;28;01melif\u001b[39;00m event\u001b[38;5;241m==\u001b[39mcv2\u001b[38;5;241m.\u001b[39mEVENT_MOUSEMOVE:\n\u001b[1;32m---> 14\u001b[0m     cv2\u001b[38;5;241m.\u001b[39mputText(img,\u001b[38;5;124;43m'\u001b[39;49m\u001b[38;5;124;43mMouse Position\u001b[39;49m\u001b[38;5;124;43m'\u001b[39;49m\u001b[38;5;241;43m+\u001b[39;49m\u001b[43mix\u001b[49m\u001b[38;5;241m+\u001b[39m\u001b[38;5;124m'\u001b[39m\u001b[38;5;124m ,\u001b[39m\u001b[38;5;124m'\u001b[39m\u001b[38;5;241m+\u001b[39miy,(\u001b[38;5;241m10\u001b[39m,\u001b[38;5;241m50\u001b[39m), font, \u001b[38;5;241m1\u001b[39m,(\u001b[38;5;241m255\u001b[39m,\u001b[38;5;241m255\u001b[39m,\u001b[38;5;241m255\u001b[39m),\u001b[38;5;241m0.7\u001b[39m,cv2\u001b[38;5;241m.\u001b[39mLINE_AA)\n\u001b[0;32m     15\u001b[0m     \u001b[38;5;28;01mif\u001b[39;00m drawing\u001b[38;5;241m==\u001b[39m\u001b[38;5;28;01mTrue\u001b[39;00m:\n\u001b[0;32m     16\u001b[0m         \u001b[38;5;28;01mif\u001b[39;00m mode\u001b[38;5;241m==\u001b[39m \u001b[38;5;28;01mTrue\u001b[39;00m:\n",
      "\u001b[1;31mTypeError\u001b[0m: can only concatenate str (not \"int\") to str"
     ]
    },
    {
     "ename": "TypeError",
     "evalue": "can only concatenate str (not \"int\") to str",
     "output_type": "error",
     "traceback": [
      "\u001b[1;31m---------------------------------------------------------------------------\u001b[0m",
      "\u001b[1;31mTypeError\u001b[0m                                 Traceback (most recent call last)",
      "Cell \u001b[1;32mIn[4], line 14\u001b[0m, in \u001b[0;36mdraw_circle\u001b[1;34m(event, x, y, flags, param)\u001b[0m\n\u001b[0;32m     12\u001b[0m     ix,iy\u001b[38;5;241m=\u001b[39mx,y\n\u001b[0;32m     13\u001b[0m \u001b[38;5;28;01melif\u001b[39;00m event\u001b[38;5;241m==\u001b[39mcv2\u001b[38;5;241m.\u001b[39mEVENT_MOUSEMOVE:\n\u001b[1;32m---> 14\u001b[0m     cv2\u001b[38;5;241m.\u001b[39mputText(img,\u001b[38;5;124;43m'\u001b[39;49m\u001b[38;5;124;43mMouse Position\u001b[39;49m\u001b[38;5;124;43m'\u001b[39;49m\u001b[38;5;241;43m+\u001b[39;49m\u001b[43mix\u001b[49m\u001b[38;5;241m+\u001b[39m\u001b[38;5;124m'\u001b[39m\u001b[38;5;124m ,\u001b[39m\u001b[38;5;124m'\u001b[39m\u001b[38;5;241m+\u001b[39miy,(\u001b[38;5;241m10\u001b[39m,\u001b[38;5;241m50\u001b[39m), font, \u001b[38;5;241m1\u001b[39m,(\u001b[38;5;241m255\u001b[39m,\u001b[38;5;241m255\u001b[39m,\u001b[38;5;241m255\u001b[39m),\u001b[38;5;241m0.7\u001b[39m,cv2\u001b[38;5;241m.\u001b[39mLINE_AA)\n\u001b[0;32m     15\u001b[0m     \u001b[38;5;28;01mif\u001b[39;00m drawing\u001b[38;5;241m==\u001b[39m\u001b[38;5;28;01mTrue\u001b[39;00m:\n\u001b[0;32m     16\u001b[0m         \u001b[38;5;28;01mif\u001b[39;00m mode\u001b[38;5;241m==\u001b[39m \u001b[38;5;28;01mTrue\u001b[39;00m:\n",
      "\u001b[1;31mTypeError\u001b[0m: can only concatenate str (not \"int\") to str"
     ]
    },
    {
     "ename": "TypeError",
     "evalue": "can only concatenate str (not \"int\") to str",
     "output_type": "error",
     "traceback": [
      "\u001b[1;31m---------------------------------------------------------------------------\u001b[0m",
      "\u001b[1;31mTypeError\u001b[0m                                 Traceback (most recent call last)",
      "Cell \u001b[1;32mIn[4], line 14\u001b[0m, in \u001b[0;36mdraw_circle\u001b[1;34m(event, x, y, flags, param)\u001b[0m\n\u001b[0;32m     12\u001b[0m     ix,iy\u001b[38;5;241m=\u001b[39mx,y\n\u001b[0;32m     13\u001b[0m \u001b[38;5;28;01melif\u001b[39;00m event\u001b[38;5;241m==\u001b[39mcv2\u001b[38;5;241m.\u001b[39mEVENT_MOUSEMOVE:\n\u001b[1;32m---> 14\u001b[0m     cv2\u001b[38;5;241m.\u001b[39mputText(img,\u001b[38;5;124;43m'\u001b[39;49m\u001b[38;5;124;43mMouse Position\u001b[39;49m\u001b[38;5;124;43m'\u001b[39;49m\u001b[38;5;241;43m+\u001b[39;49m\u001b[43mix\u001b[49m\u001b[38;5;241m+\u001b[39m\u001b[38;5;124m'\u001b[39m\u001b[38;5;124m ,\u001b[39m\u001b[38;5;124m'\u001b[39m\u001b[38;5;241m+\u001b[39miy,(\u001b[38;5;241m10\u001b[39m,\u001b[38;5;241m50\u001b[39m), font, \u001b[38;5;241m1\u001b[39m,(\u001b[38;5;241m255\u001b[39m,\u001b[38;5;241m255\u001b[39m,\u001b[38;5;241m255\u001b[39m),\u001b[38;5;241m0.7\u001b[39m,cv2\u001b[38;5;241m.\u001b[39mLINE_AA)\n\u001b[0;32m     15\u001b[0m     \u001b[38;5;28;01mif\u001b[39;00m drawing\u001b[38;5;241m==\u001b[39m\u001b[38;5;28;01mTrue\u001b[39;00m:\n\u001b[0;32m     16\u001b[0m         \u001b[38;5;28;01mif\u001b[39;00m mode\u001b[38;5;241m==\u001b[39m \u001b[38;5;28;01mTrue\u001b[39;00m:\n",
      "\u001b[1;31mTypeError\u001b[0m: can only concatenate str (not \"int\") to str"
     ]
    },
    {
     "ename": "TypeError",
     "evalue": "can only concatenate str (not \"int\") to str",
     "output_type": "error",
     "traceback": [
      "\u001b[1;31m---------------------------------------------------------------------------\u001b[0m",
      "\u001b[1;31mTypeError\u001b[0m                                 Traceback (most recent call last)",
      "Cell \u001b[1;32mIn[4], line 14\u001b[0m, in \u001b[0;36mdraw_circle\u001b[1;34m(event, x, y, flags, param)\u001b[0m\n\u001b[0;32m     12\u001b[0m     ix,iy\u001b[38;5;241m=\u001b[39mx,y\n\u001b[0;32m     13\u001b[0m \u001b[38;5;28;01melif\u001b[39;00m event\u001b[38;5;241m==\u001b[39mcv2\u001b[38;5;241m.\u001b[39mEVENT_MOUSEMOVE:\n\u001b[1;32m---> 14\u001b[0m     cv2\u001b[38;5;241m.\u001b[39mputText(img,\u001b[38;5;124;43m'\u001b[39;49m\u001b[38;5;124;43mMouse Position\u001b[39;49m\u001b[38;5;124;43m'\u001b[39;49m\u001b[38;5;241;43m+\u001b[39;49m\u001b[43mix\u001b[49m\u001b[38;5;241m+\u001b[39m\u001b[38;5;124m'\u001b[39m\u001b[38;5;124m ,\u001b[39m\u001b[38;5;124m'\u001b[39m\u001b[38;5;241m+\u001b[39miy,(\u001b[38;5;241m10\u001b[39m,\u001b[38;5;241m50\u001b[39m), font, \u001b[38;5;241m1\u001b[39m,(\u001b[38;5;241m255\u001b[39m,\u001b[38;5;241m255\u001b[39m,\u001b[38;5;241m255\u001b[39m),\u001b[38;5;241m0.7\u001b[39m,cv2\u001b[38;5;241m.\u001b[39mLINE_AA)\n\u001b[0;32m     15\u001b[0m     \u001b[38;5;28;01mif\u001b[39;00m drawing\u001b[38;5;241m==\u001b[39m\u001b[38;5;28;01mTrue\u001b[39;00m:\n\u001b[0;32m     16\u001b[0m         \u001b[38;5;28;01mif\u001b[39;00m mode\u001b[38;5;241m==\u001b[39m \u001b[38;5;28;01mTrue\u001b[39;00m:\n",
      "\u001b[1;31mTypeError\u001b[0m: can only concatenate str (not \"int\") to str"
     ]
    },
    {
     "ename": "TypeError",
     "evalue": "can only concatenate str (not \"int\") to str",
     "output_type": "error",
     "traceback": [
      "\u001b[1;31m---------------------------------------------------------------------------\u001b[0m",
      "\u001b[1;31mTypeError\u001b[0m                                 Traceback (most recent call last)",
      "Cell \u001b[1;32mIn[4], line 14\u001b[0m, in \u001b[0;36mdraw_circle\u001b[1;34m(event, x, y, flags, param)\u001b[0m\n\u001b[0;32m     12\u001b[0m     ix,iy\u001b[38;5;241m=\u001b[39mx,y\n\u001b[0;32m     13\u001b[0m \u001b[38;5;28;01melif\u001b[39;00m event\u001b[38;5;241m==\u001b[39mcv2\u001b[38;5;241m.\u001b[39mEVENT_MOUSEMOVE:\n\u001b[1;32m---> 14\u001b[0m     cv2\u001b[38;5;241m.\u001b[39mputText(img,\u001b[38;5;124;43m'\u001b[39;49m\u001b[38;5;124;43mMouse Position\u001b[39;49m\u001b[38;5;124;43m'\u001b[39;49m\u001b[38;5;241;43m+\u001b[39;49m\u001b[43mix\u001b[49m\u001b[38;5;241m+\u001b[39m\u001b[38;5;124m'\u001b[39m\u001b[38;5;124m ,\u001b[39m\u001b[38;5;124m'\u001b[39m\u001b[38;5;241m+\u001b[39miy,(\u001b[38;5;241m10\u001b[39m,\u001b[38;5;241m50\u001b[39m), font, \u001b[38;5;241m1\u001b[39m,(\u001b[38;5;241m255\u001b[39m,\u001b[38;5;241m255\u001b[39m,\u001b[38;5;241m255\u001b[39m),\u001b[38;5;241m0.7\u001b[39m,cv2\u001b[38;5;241m.\u001b[39mLINE_AA)\n\u001b[0;32m     15\u001b[0m     \u001b[38;5;28;01mif\u001b[39;00m drawing\u001b[38;5;241m==\u001b[39m\u001b[38;5;28;01mTrue\u001b[39;00m:\n\u001b[0;32m     16\u001b[0m         \u001b[38;5;28;01mif\u001b[39;00m mode\u001b[38;5;241m==\u001b[39m \u001b[38;5;28;01mTrue\u001b[39;00m:\n",
      "\u001b[1;31mTypeError\u001b[0m: can only concatenate str (not \"int\") to str"
     ]
    },
    {
     "ename": "TypeError",
     "evalue": "can only concatenate str (not \"int\") to str",
     "output_type": "error",
     "traceback": [
      "\u001b[1;31m---------------------------------------------------------------------------\u001b[0m",
      "\u001b[1;31mTypeError\u001b[0m                                 Traceback (most recent call last)",
      "Cell \u001b[1;32mIn[4], line 14\u001b[0m, in \u001b[0;36mdraw_circle\u001b[1;34m(event, x, y, flags, param)\u001b[0m\n\u001b[0;32m     12\u001b[0m     ix,iy\u001b[38;5;241m=\u001b[39mx,y\n\u001b[0;32m     13\u001b[0m \u001b[38;5;28;01melif\u001b[39;00m event\u001b[38;5;241m==\u001b[39mcv2\u001b[38;5;241m.\u001b[39mEVENT_MOUSEMOVE:\n\u001b[1;32m---> 14\u001b[0m     cv2\u001b[38;5;241m.\u001b[39mputText(img,\u001b[38;5;124;43m'\u001b[39;49m\u001b[38;5;124;43mMouse Position\u001b[39;49m\u001b[38;5;124;43m'\u001b[39;49m\u001b[38;5;241;43m+\u001b[39;49m\u001b[43mix\u001b[49m\u001b[38;5;241m+\u001b[39m\u001b[38;5;124m'\u001b[39m\u001b[38;5;124m ,\u001b[39m\u001b[38;5;124m'\u001b[39m\u001b[38;5;241m+\u001b[39miy,(\u001b[38;5;241m10\u001b[39m,\u001b[38;5;241m50\u001b[39m), font, \u001b[38;5;241m1\u001b[39m,(\u001b[38;5;241m255\u001b[39m,\u001b[38;5;241m255\u001b[39m,\u001b[38;5;241m255\u001b[39m),\u001b[38;5;241m0.7\u001b[39m,cv2\u001b[38;5;241m.\u001b[39mLINE_AA)\n\u001b[0;32m     15\u001b[0m     \u001b[38;5;28;01mif\u001b[39;00m drawing\u001b[38;5;241m==\u001b[39m\u001b[38;5;28;01mTrue\u001b[39;00m:\n\u001b[0;32m     16\u001b[0m         \u001b[38;5;28;01mif\u001b[39;00m mode\u001b[38;5;241m==\u001b[39m \u001b[38;5;28;01mTrue\u001b[39;00m:\n",
      "\u001b[1;31mTypeError\u001b[0m: can only concatenate str (not \"int\") to str"
     ]
    },
    {
     "ename": "TypeError",
     "evalue": "can only concatenate str (not \"int\") to str",
     "output_type": "error",
     "traceback": [
      "\u001b[1;31m---------------------------------------------------------------------------\u001b[0m",
      "\u001b[1;31mTypeError\u001b[0m                                 Traceback (most recent call last)",
      "Cell \u001b[1;32mIn[4], line 14\u001b[0m, in \u001b[0;36mdraw_circle\u001b[1;34m(event, x, y, flags, param)\u001b[0m\n\u001b[0;32m     12\u001b[0m     ix,iy\u001b[38;5;241m=\u001b[39mx,y\n\u001b[0;32m     13\u001b[0m \u001b[38;5;28;01melif\u001b[39;00m event\u001b[38;5;241m==\u001b[39mcv2\u001b[38;5;241m.\u001b[39mEVENT_MOUSEMOVE:\n\u001b[1;32m---> 14\u001b[0m     cv2\u001b[38;5;241m.\u001b[39mputText(img,\u001b[38;5;124;43m'\u001b[39;49m\u001b[38;5;124;43mMouse Position\u001b[39;49m\u001b[38;5;124;43m'\u001b[39;49m\u001b[38;5;241;43m+\u001b[39;49m\u001b[43mix\u001b[49m\u001b[38;5;241m+\u001b[39m\u001b[38;5;124m'\u001b[39m\u001b[38;5;124m ,\u001b[39m\u001b[38;5;124m'\u001b[39m\u001b[38;5;241m+\u001b[39miy,(\u001b[38;5;241m10\u001b[39m,\u001b[38;5;241m50\u001b[39m), font, \u001b[38;5;241m1\u001b[39m,(\u001b[38;5;241m255\u001b[39m,\u001b[38;5;241m255\u001b[39m,\u001b[38;5;241m255\u001b[39m),\u001b[38;5;241m0.7\u001b[39m,cv2\u001b[38;5;241m.\u001b[39mLINE_AA)\n\u001b[0;32m     15\u001b[0m     \u001b[38;5;28;01mif\u001b[39;00m drawing\u001b[38;5;241m==\u001b[39m\u001b[38;5;28;01mTrue\u001b[39;00m:\n\u001b[0;32m     16\u001b[0m         \u001b[38;5;28;01mif\u001b[39;00m mode\u001b[38;5;241m==\u001b[39m \u001b[38;5;28;01mTrue\u001b[39;00m:\n",
      "\u001b[1;31mTypeError\u001b[0m: can only concatenate str (not \"int\") to str"
     ]
    },
    {
     "ename": "TypeError",
     "evalue": "can only concatenate str (not \"int\") to str",
     "output_type": "error",
     "traceback": [
      "\u001b[1;31m---------------------------------------------------------------------------\u001b[0m",
      "\u001b[1;31mTypeError\u001b[0m                                 Traceback (most recent call last)",
      "Cell \u001b[1;32mIn[4], line 14\u001b[0m, in \u001b[0;36mdraw_circle\u001b[1;34m(event, x, y, flags, param)\u001b[0m\n\u001b[0;32m     12\u001b[0m     ix,iy\u001b[38;5;241m=\u001b[39mx,y\n\u001b[0;32m     13\u001b[0m \u001b[38;5;28;01melif\u001b[39;00m event\u001b[38;5;241m==\u001b[39mcv2\u001b[38;5;241m.\u001b[39mEVENT_MOUSEMOVE:\n\u001b[1;32m---> 14\u001b[0m     cv2\u001b[38;5;241m.\u001b[39mputText(img,\u001b[38;5;124;43m'\u001b[39;49m\u001b[38;5;124;43mMouse Position\u001b[39;49m\u001b[38;5;124;43m'\u001b[39;49m\u001b[38;5;241;43m+\u001b[39;49m\u001b[43mix\u001b[49m\u001b[38;5;241m+\u001b[39m\u001b[38;5;124m'\u001b[39m\u001b[38;5;124m ,\u001b[39m\u001b[38;5;124m'\u001b[39m\u001b[38;5;241m+\u001b[39miy,(\u001b[38;5;241m10\u001b[39m,\u001b[38;5;241m50\u001b[39m), font, \u001b[38;5;241m1\u001b[39m,(\u001b[38;5;241m255\u001b[39m,\u001b[38;5;241m255\u001b[39m,\u001b[38;5;241m255\u001b[39m),\u001b[38;5;241m0.7\u001b[39m,cv2\u001b[38;5;241m.\u001b[39mLINE_AA)\n\u001b[0;32m     15\u001b[0m     \u001b[38;5;28;01mif\u001b[39;00m drawing\u001b[38;5;241m==\u001b[39m\u001b[38;5;28;01mTrue\u001b[39;00m:\n\u001b[0;32m     16\u001b[0m         \u001b[38;5;28;01mif\u001b[39;00m mode\u001b[38;5;241m==\u001b[39m \u001b[38;5;28;01mTrue\u001b[39;00m:\n",
      "\u001b[1;31mTypeError\u001b[0m: can only concatenate str (not \"int\") to str"
     ]
    },
    {
     "ename": "TypeError",
     "evalue": "can only concatenate str (not \"int\") to str",
     "output_type": "error",
     "traceback": [
      "\u001b[1;31m---------------------------------------------------------------------------\u001b[0m",
      "\u001b[1;31mTypeError\u001b[0m                                 Traceback (most recent call last)",
      "Cell \u001b[1;32mIn[4], line 14\u001b[0m, in \u001b[0;36mdraw_circle\u001b[1;34m(event, x, y, flags, param)\u001b[0m\n\u001b[0;32m     12\u001b[0m     ix,iy\u001b[38;5;241m=\u001b[39mx,y\n\u001b[0;32m     13\u001b[0m \u001b[38;5;28;01melif\u001b[39;00m event\u001b[38;5;241m==\u001b[39mcv2\u001b[38;5;241m.\u001b[39mEVENT_MOUSEMOVE:\n\u001b[1;32m---> 14\u001b[0m     cv2\u001b[38;5;241m.\u001b[39mputText(img,\u001b[38;5;124;43m'\u001b[39;49m\u001b[38;5;124;43mMouse Position\u001b[39;49m\u001b[38;5;124;43m'\u001b[39;49m\u001b[38;5;241;43m+\u001b[39;49m\u001b[43mix\u001b[49m\u001b[38;5;241m+\u001b[39m\u001b[38;5;124m'\u001b[39m\u001b[38;5;124m ,\u001b[39m\u001b[38;5;124m'\u001b[39m\u001b[38;5;241m+\u001b[39miy,(\u001b[38;5;241m10\u001b[39m,\u001b[38;5;241m50\u001b[39m), font, \u001b[38;5;241m1\u001b[39m,(\u001b[38;5;241m255\u001b[39m,\u001b[38;5;241m255\u001b[39m,\u001b[38;5;241m255\u001b[39m),\u001b[38;5;241m0.7\u001b[39m,cv2\u001b[38;5;241m.\u001b[39mLINE_AA)\n\u001b[0;32m     15\u001b[0m     \u001b[38;5;28;01mif\u001b[39;00m drawing\u001b[38;5;241m==\u001b[39m\u001b[38;5;28;01mTrue\u001b[39;00m:\n\u001b[0;32m     16\u001b[0m         \u001b[38;5;28;01mif\u001b[39;00m mode\u001b[38;5;241m==\u001b[39m \u001b[38;5;28;01mTrue\u001b[39;00m:\n",
      "\u001b[1;31mTypeError\u001b[0m: can only concatenate str (not \"int\") to str"
     ]
    },
    {
     "ename": "TypeError",
     "evalue": "can only concatenate str (not \"int\") to str",
     "output_type": "error",
     "traceback": [
      "\u001b[1;31m---------------------------------------------------------------------------\u001b[0m",
      "\u001b[1;31mTypeError\u001b[0m                                 Traceback (most recent call last)",
      "Cell \u001b[1;32mIn[4], line 14\u001b[0m, in \u001b[0;36mdraw_circle\u001b[1;34m(event, x, y, flags, param)\u001b[0m\n\u001b[0;32m     12\u001b[0m     ix,iy\u001b[38;5;241m=\u001b[39mx,y\n\u001b[0;32m     13\u001b[0m \u001b[38;5;28;01melif\u001b[39;00m event\u001b[38;5;241m==\u001b[39mcv2\u001b[38;5;241m.\u001b[39mEVENT_MOUSEMOVE:\n\u001b[1;32m---> 14\u001b[0m     cv2\u001b[38;5;241m.\u001b[39mputText(img,\u001b[38;5;124;43m'\u001b[39;49m\u001b[38;5;124;43mMouse Position\u001b[39;49m\u001b[38;5;124;43m'\u001b[39;49m\u001b[38;5;241;43m+\u001b[39;49m\u001b[43mix\u001b[49m\u001b[38;5;241m+\u001b[39m\u001b[38;5;124m'\u001b[39m\u001b[38;5;124m ,\u001b[39m\u001b[38;5;124m'\u001b[39m\u001b[38;5;241m+\u001b[39miy,(\u001b[38;5;241m10\u001b[39m,\u001b[38;5;241m50\u001b[39m), font, \u001b[38;5;241m1\u001b[39m,(\u001b[38;5;241m255\u001b[39m,\u001b[38;5;241m255\u001b[39m,\u001b[38;5;241m255\u001b[39m),\u001b[38;5;241m0.7\u001b[39m,cv2\u001b[38;5;241m.\u001b[39mLINE_AA)\n\u001b[0;32m     15\u001b[0m     \u001b[38;5;28;01mif\u001b[39;00m drawing\u001b[38;5;241m==\u001b[39m\u001b[38;5;28;01mTrue\u001b[39;00m:\n\u001b[0;32m     16\u001b[0m         \u001b[38;5;28;01mif\u001b[39;00m mode\u001b[38;5;241m==\u001b[39m \u001b[38;5;28;01mTrue\u001b[39;00m:\n",
      "\u001b[1;31mTypeError\u001b[0m: can only concatenate str (not \"int\") to str"
     ]
    },
    {
     "ename": "TypeError",
     "evalue": "can only concatenate str (not \"int\") to str",
     "output_type": "error",
     "traceback": [
      "\u001b[1;31m---------------------------------------------------------------------------\u001b[0m",
      "\u001b[1;31mTypeError\u001b[0m                                 Traceback (most recent call last)",
      "Cell \u001b[1;32mIn[4], line 14\u001b[0m, in \u001b[0;36mdraw_circle\u001b[1;34m(event, x, y, flags, param)\u001b[0m\n\u001b[0;32m     12\u001b[0m     ix,iy\u001b[38;5;241m=\u001b[39mx,y\n\u001b[0;32m     13\u001b[0m \u001b[38;5;28;01melif\u001b[39;00m event\u001b[38;5;241m==\u001b[39mcv2\u001b[38;5;241m.\u001b[39mEVENT_MOUSEMOVE:\n\u001b[1;32m---> 14\u001b[0m     cv2\u001b[38;5;241m.\u001b[39mputText(img,\u001b[38;5;124;43m'\u001b[39;49m\u001b[38;5;124;43mMouse Position\u001b[39;49m\u001b[38;5;124;43m'\u001b[39;49m\u001b[38;5;241;43m+\u001b[39;49m\u001b[43mix\u001b[49m\u001b[38;5;241m+\u001b[39m\u001b[38;5;124m'\u001b[39m\u001b[38;5;124m ,\u001b[39m\u001b[38;5;124m'\u001b[39m\u001b[38;5;241m+\u001b[39miy,(\u001b[38;5;241m10\u001b[39m,\u001b[38;5;241m50\u001b[39m), font, \u001b[38;5;241m1\u001b[39m,(\u001b[38;5;241m255\u001b[39m,\u001b[38;5;241m255\u001b[39m,\u001b[38;5;241m255\u001b[39m),\u001b[38;5;241m0.7\u001b[39m,cv2\u001b[38;5;241m.\u001b[39mLINE_AA)\n\u001b[0;32m     15\u001b[0m     \u001b[38;5;28;01mif\u001b[39;00m drawing\u001b[38;5;241m==\u001b[39m\u001b[38;5;28;01mTrue\u001b[39;00m:\n\u001b[0;32m     16\u001b[0m         \u001b[38;5;28;01mif\u001b[39;00m mode\u001b[38;5;241m==\u001b[39m \u001b[38;5;28;01mTrue\u001b[39;00m:\n",
      "\u001b[1;31mTypeError\u001b[0m: can only concatenate str (not \"int\") to str"
     ]
    },
    {
     "ename": "TypeError",
     "evalue": "can only concatenate str (not \"int\") to str",
     "output_type": "error",
     "traceback": [
      "\u001b[1;31m---------------------------------------------------------------------------\u001b[0m",
      "\u001b[1;31mTypeError\u001b[0m                                 Traceback (most recent call last)",
      "Cell \u001b[1;32mIn[4], line 14\u001b[0m, in \u001b[0;36mdraw_circle\u001b[1;34m(event, x, y, flags, param)\u001b[0m\n\u001b[0;32m     12\u001b[0m     ix,iy\u001b[38;5;241m=\u001b[39mx,y\n\u001b[0;32m     13\u001b[0m \u001b[38;5;28;01melif\u001b[39;00m event\u001b[38;5;241m==\u001b[39mcv2\u001b[38;5;241m.\u001b[39mEVENT_MOUSEMOVE:\n\u001b[1;32m---> 14\u001b[0m     cv2\u001b[38;5;241m.\u001b[39mputText(img,\u001b[38;5;124;43m'\u001b[39;49m\u001b[38;5;124;43mMouse Position\u001b[39;49m\u001b[38;5;124;43m'\u001b[39;49m\u001b[38;5;241;43m+\u001b[39;49m\u001b[43mix\u001b[49m\u001b[38;5;241m+\u001b[39m\u001b[38;5;124m'\u001b[39m\u001b[38;5;124m ,\u001b[39m\u001b[38;5;124m'\u001b[39m\u001b[38;5;241m+\u001b[39miy,(\u001b[38;5;241m10\u001b[39m,\u001b[38;5;241m50\u001b[39m), font, \u001b[38;5;241m1\u001b[39m,(\u001b[38;5;241m255\u001b[39m,\u001b[38;5;241m255\u001b[39m,\u001b[38;5;241m255\u001b[39m),\u001b[38;5;241m0.7\u001b[39m,cv2\u001b[38;5;241m.\u001b[39mLINE_AA)\n\u001b[0;32m     15\u001b[0m     \u001b[38;5;28;01mif\u001b[39;00m drawing\u001b[38;5;241m==\u001b[39m\u001b[38;5;28;01mTrue\u001b[39;00m:\n\u001b[0;32m     16\u001b[0m         \u001b[38;5;28;01mif\u001b[39;00m mode\u001b[38;5;241m==\u001b[39m \u001b[38;5;28;01mTrue\u001b[39;00m:\n",
      "\u001b[1;31mTypeError\u001b[0m: can only concatenate str (not \"int\") to str"
     ]
    },
    {
     "ename": "TypeError",
     "evalue": "can only concatenate str (not \"int\") to str",
     "output_type": "error",
     "traceback": [
      "\u001b[1;31m---------------------------------------------------------------------------\u001b[0m",
      "\u001b[1;31mTypeError\u001b[0m                                 Traceback (most recent call last)",
      "Cell \u001b[1;32mIn[4], line 14\u001b[0m, in \u001b[0;36mdraw_circle\u001b[1;34m(event, x, y, flags, param)\u001b[0m\n\u001b[0;32m     12\u001b[0m     ix,iy\u001b[38;5;241m=\u001b[39mx,y\n\u001b[0;32m     13\u001b[0m \u001b[38;5;28;01melif\u001b[39;00m event\u001b[38;5;241m==\u001b[39mcv2\u001b[38;5;241m.\u001b[39mEVENT_MOUSEMOVE:\n\u001b[1;32m---> 14\u001b[0m     cv2\u001b[38;5;241m.\u001b[39mputText(img,\u001b[38;5;124;43m'\u001b[39;49m\u001b[38;5;124;43mMouse Position\u001b[39;49m\u001b[38;5;124;43m'\u001b[39;49m\u001b[38;5;241;43m+\u001b[39;49m\u001b[43mix\u001b[49m\u001b[38;5;241m+\u001b[39m\u001b[38;5;124m'\u001b[39m\u001b[38;5;124m ,\u001b[39m\u001b[38;5;124m'\u001b[39m\u001b[38;5;241m+\u001b[39miy,(\u001b[38;5;241m10\u001b[39m,\u001b[38;5;241m50\u001b[39m), font, \u001b[38;5;241m1\u001b[39m,(\u001b[38;5;241m255\u001b[39m,\u001b[38;5;241m255\u001b[39m,\u001b[38;5;241m255\u001b[39m),\u001b[38;5;241m0.7\u001b[39m,cv2\u001b[38;5;241m.\u001b[39mLINE_AA)\n\u001b[0;32m     15\u001b[0m     \u001b[38;5;28;01mif\u001b[39;00m drawing\u001b[38;5;241m==\u001b[39m\u001b[38;5;28;01mTrue\u001b[39;00m:\n\u001b[0;32m     16\u001b[0m         \u001b[38;5;28;01mif\u001b[39;00m mode\u001b[38;5;241m==\u001b[39m \u001b[38;5;28;01mTrue\u001b[39;00m:\n",
      "\u001b[1;31mTypeError\u001b[0m: can only concatenate str (not \"int\") to str"
     ]
    },
    {
     "ename": "TypeError",
     "evalue": "can only concatenate str (not \"int\") to str",
     "output_type": "error",
     "traceback": [
      "\u001b[1;31m---------------------------------------------------------------------------\u001b[0m",
      "\u001b[1;31mTypeError\u001b[0m                                 Traceback (most recent call last)",
      "Cell \u001b[1;32mIn[4], line 14\u001b[0m, in \u001b[0;36mdraw_circle\u001b[1;34m(event, x, y, flags, param)\u001b[0m\n\u001b[0;32m     12\u001b[0m     ix,iy\u001b[38;5;241m=\u001b[39mx,y\n\u001b[0;32m     13\u001b[0m \u001b[38;5;28;01melif\u001b[39;00m event\u001b[38;5;241m==\u001b[39mcv2\u001b[38;5;241m.\u001b[39mEVENT_MOUSEMOVE:\n\u001b[1;32m---> 14\u001b[0m     cv2\u001b[38;5;241m.\u001b[39mputText(img,\u001b[38;5;124;43m'\u001b[39;49m\u001b[38;5;124;43mMouse Position\u001b[39;49m\u001b[38;5;124;43m'\u001b[39;49m\u001b[38;5;241;43m+\u001b[39;49m\u001b[43mix\u001b[49m\u001b[38;5;241m+\u001b[39m\u001b[38;5;124m'\u001b[39m\u001b[38;5;124m ,\u001b[39m\u001b[38;5;124m'\u001b[39m\u001b[38;5;241m+\u001b[39miy,(\u001b[38;5;241m10\u001b[39m,\u001b[38;5;241m50\u001b[39m), font, \u001b[38;5;241m1\u001b[39m,(\u001b[38;5;241m255\u001b[39m,\u001b[38;5;241m255\u001b[39m,\u001b[38;5;241m255\u001b[39m),\u001b[38;5;241m0.7\u001b[39m,cv2\u001b[38;5;241m.\u001b[39mLINE_AA)\n\u001b[0;32m     15\u001b[0m     \u001b[38;5;28;01mif\u001b[39;00m drawing\u001b[38;5;241m==\u001b[39m\u001b[38;5;28;01mTrue\u001b[39;00m:\n\u001b[0;32m     16\u001b[0m         \u001b[38;5;28;01mif\u001b[39;00m mode\u001b[38;5;241m==\u001b[39m \u001b[38;5;28;01mTrue\u001b[39;00m:\n",
      "\u001b[1;31mTypeError\u001b[0m: can only concatenate str (not \"int\") to str"
     ]
    },
    {
     "ename": "TypeError",
     "evalue": "can only concatenate str (not \"int\") to str",
     "output_type": "error",
     "traceback": [
      "\u001b[1;31m---------------------------------------------------------------------------\u001b[0m",
      "\u001b[1;31mTypeError\u001b[0m                                 Traceback (most recent call last)",
      "Cell \u001b[1;32mIn[4], line 14\u001b[0m, in \u001b[0;36mdraw_circle\u001b[1;34m(event, x, y, flags, param)\u001b[0m\n\u001b[0;32m     12\u001b[0m     ix,iy\u001b[38;5;241m=\u001b[39mx,y\n\u001b[0;32m     13\u001b[0m \u001b[38;5;28;01melif\u001b[39;00m event\u001b[38;5;241m==\u001b[39mcv2\u001b[38;5;241m.\u001b[39mEVENT_MOUSEMOVE:\n\u001b[1;32m---> 14\u001b[0m     cv2\u001b[38;5;241m.\u001b[39mputText(img,\u001b[38;5;124;43m'\u001b[39;49m\u001b[38;5;124;43mMouse Position\u001b[39;49m\u001b[38;5;124;43m'\u001b[39;49m\u001b[38;5;241;43m+\u001b[39;49m\u001b[43mix\u001b[49m\u001b[38;5;241m+\u001b[39m\u001b[38;5;124m'\u001b[39m\u001b[38;5;124m ,\u001b[39m\u001b[38;5;124m'\u001b[39m\u001b[38;5;241m+\u001b[39miy,(\u001b[38;5;241m10\u001b[39m,\u001b[38;5;241m50\u001b[39m), font, \u001b[38;5;241m1\u001b[39m,(\u001b[38;5;241m255\u001b[39m,\u001b[38;5;241m255\u001b[39m,\u001b[38;5;241m255\u001b[39m),\u001b[38;5;241m0.7\u001b[39m,cv2\u001b[38;5;241m.\u001b[39mLINE_AA)\n\u001b[0;32m     15\u001b[0m     \u001b[38;5;28;01mif\u001b[39;00m drawing\u001b[38;5;241m==\u001b[39m\u001b[38;5;28;01mTrue\u001b[39;00m:\n\u001b[0;32m     16\u001b[0m         \u001b[38;5;28;01mif\u001b[39;00m mode\u001b[38;5;241m==\u001b[39m \u001b[38;5;28;01mTrue\u001b[39;00m:\n",
      "\u001b[1;31mTypeError\u001b[0m: can only concatenate str (not \"int\") to str"
     ]
    },
    {
     "ename": "TypeError",
     "evalue": "can only concatenate str (not \"int\") to str",
     "output_type": "error",
     "traceback": [
      "\u001b[1;31m---------------------------------------------------------------------------\u001b[0m",
      "\u001b[1;31mTypeError\u001b[0m                                 Traceback (most recent call last)",
      "Cell \u001b[1;32mIn[4], line 14\u001b[0m, in \u001b[0;36mdraw_circle\u001b[1;34m(event, x, y, flags, param)\u001b[0m\n\u001b[0;32m     12\u001b[0m     ix,iy\u001b[38;5;241m=\u001b[39mx,y\n\u001b[0;32m     13\u001b[0m \u001b[38;5;28;01melif\u001b[39;00m event\u001b[38;5;241m==\u001b[39mcv2\u001b[38;5;241m.\u001b[39mEVENT_MOUSEMOVE:\n\u001b[1;32m---> 14\u001b[0m     cv2\u001b[38;5;241m.\u001b[39mputText(img,\u001b[38;5;124;43m'\u001b[39;49m\u001b[38;5;124;43mMouse Position\u001b[39;49m\u001b[38;5;124;43m'\u001b[39;49m\u001b[38;5;241;43m+\u001b[39;49m\u001b[43mix\u001b[49m\u001b[38;5;241m+\u001b[39m\u001b[38;5;124m'\u001b[39m\u001b[38;5;124m ,\u001b[39m\u001b[38;5;124m'\u001b[39m\u001b[38;5;241m+\u001b[39miy,(\u001b[38;5;241m10\u001b[39m,\u001b[38;5;241m50\u001b[39m), font, \u001b[38;5;241m1\u001b[39m,(\u001b[38;5;241m255\u001b[39m,\u001b[38;5;241m255\u001b[39m,\u001b[38;5;241m255\u001b[39m),\u001b[38;5;241m0.7\u001b[39m,cv2\u001b[38;5;241m.\u001b[39mLINE_AA)\n\u001b[0;32m     15\u001b[0m     \u001b[38;5;28;01mif\u001b[39;00m drawing\u001b[38;5;241m==\u001b[39m\u001b[38;5;28;01mTrue\u001b[39;00m:\n\u001b[0;32m     16\u001b[0m         \u001b[38;5;28;01mif\u001b[39;00m mode\u001b[38;5;241m==\u001b[39m \u001b[38;5;28;01mTrue\u001b[39;00m:\n",
      "\u001b[1;31mTypeError\u001b[0m: can only concatenate str (not \"int\") to str"
     ]
    },
    {
     "ename": "TypeError",
     "evalue": "can only concatenate str (not \"int\") to str",
     "output_type": "error",
     "traceback": [
      "\u001b[1;31m---------------------------------------------------------------------------\u001b[0m",
      "\u001b[1;31mTypeError\u001b[0m                                 Traceback (most recent call last)",
      "Cell \u001b[1;32mIn[4], line 14\u001b[0m, in \u001b[0;36mdraw_circle\u001b[1;34m(event, x, y, flags, param)\u001b[0m\n\u001b[0;32m     12\u001b[0m     ix,iy\u001b[38;5;241m=\u001b[39mx,y\n\u001b[0;32m     13\u001b[0m \u001b[38;5;28;01melif\u001b[39;00m event\u001b[38;5;241m==\u001b[39mcv2\u001b[38;5;241m.\u001b[39mEVENT_MOUSEMOVE:\n\u001b[1;32m---> 14\u001b[0m     cv2\u001b[38;5;241m.\u001b[39mputText(img,\u001b[38;5;124;43m'\u001b[39;49m\u001b[38;5;124;43mMouse Position\u001b[39;49m\u001b[38;5;124;43m'\u001b[39;49m\u001b[38;5;241;43m+\u001b[39;49m\u001b[43mix\u001b[49m\u001b[38;5;241m+\u001b[39m\u001b[38;5;124m'\u001b[39m\u001b[38;5;124m ,\u001b[39m\u001b[38;5;124m'\u001b[39m\u001b[38;5;241m+\u001b[39miy,(\u001b[38;5;241m10\u001b[39m,\u001b[38;5;241m50\u001b[39m), font, \u001b[38;5;241m1\u001b[39m,(\u001b[38;5;241m255\u001b[39m,\u001b[38;5;241m255\u001b[39m,\u001b[38;5;241m255\u001b[39m),\u001b[38;5;241m0.7\u001b[39m,cv2\u001b[38;5;241m.\u001b[39mLINE_AA)\n\u001b[0;32m     15\u001b[0m     \u001b[38;5;28;01mif\u001b[39;00m drawing\u001b[38;5;241m==\u001b[39m\u001b[38;5;28;01mTrue\u001b[39;00m:\n\u001b[0;32m     16\u001b[0m         \u001b[38;5;28;01mif\u001b[39;00m mode\u001b[38;5;241m==\u001b[39m \u001b[38;5;28;01mTrue\u001b[39;00m:\n",
      "\u001b[1;31mTypeError\u001b[0m: can only concatenate str (not \"int\") to str"
     ]
    },
    {
     "ename": "TypeError",
     "evalue": "can only concatenate str (not \"int\") to str",
     "output_type": "error",
     "traceback": [
      "\u001b[1;31m---------------------------------------------------------------------------\u001b[0m",
      "\u001b[1;31mTypeError\u001b[0m                                 Traceback (most recent call last)",
      "Cell \u001b[1;32mIn[4], line 14\u001b[0m, in \u001b[0;36mdraw_circle\u001b[1;34m(event, x, y, flags, param)\u001b[0m\n\u001b[0;32m     12\u001b[0m     ix,iy\u001b[38;5;241m=\u001b[39mx,y\n\u001b[0;32m     13\u001b[0m \u001b[38;5;28;01melif\u001b[39;00m event\u001b[38;5;241m==\u001b[39mcv2\u001b[38;5;241m.\u001b[39mEVENT_MOUSEMOVE:\n\u001b[1;32m---> 14\u001b[0m     cv2\u001b[38;5;241m.\u001b[39mputText(img,\u001b[38;5;124;43m'\u001b[39;49m\u001b[38;5;124;43mMouse Position\u001b[39;49m\u001b[38;5;124;43m'\u001b[39;49m\u001b[38;5;241;43m+\u001b[39;49m\u001b[43mix\u001b[49m\u001b[38;5;241m+\u001b[39m\u001b[38;5;124m'\u001b[39m\u001b[38;5;124m ,\u001b[39m\u001b[38;5;124m'\u001b[39m\u001b[38;5;241m+\u001b[39miy,(\u001b[38;5;241m10\u001b[39m,\u001b[38;5;241m50\u001b[39m), font, \u001b[38;5;241m1\u001b[39m,(\u001b[38;5;241m255\u001b[39m,\u001b[38;5;241m255\u001b[39m,\u001b[38;5;241m255\u001b[39m),\u001b[38;5;241m0.7\u001b[39m,cv2\u001b[38;5;241m.\u001b[39mLINE_AA)\n\u001b[0;32m     15\u001b[0m     \u001b[38;5;28;01mif\u001b[39;00m drawing\u001b[38;5;241m==\u001b[39m\u001b[38;5;28;01mTrue\u001b[39;00m:\n\u001b[0;32m     16\u001b[0m         \u001b[38;5;28;01mif\u001b[39;00m mode\u001b[38;5;241m==\u001b[39m \u001b[38;5;28;01mTrue\u001b[39;00m:\n",
      "\u001b[1;31mTypeError\u001b[0m: can only concatenate str (not \"int\") to str"
     ]
    },
    {
     "ename": "TypeError",
     "evalue": "can only concatenate str (not \"int\") to str",
     "output_type": "error",
     "traceback": [
      "\u001b[1;31m---------------------------------------------------------------------------\u001b[0m",
      "\u001b[1;31mTypeError\u001b[0m                                 Traceback (most recent call last)",
      "Cell \u001b[1;32mIn[4], line 14\u001b[0m, in \u001b[0;36mdraw_circle\u001b[1;34m(event, x, y, flags, param)\u001b[0m\n\u001b[0;32m     12\u001b[0m     ix,iy\u001b[38;5;241m=\u001b[39mx,y\n\u001b[0;32m     13\u001b[0m \u001b[38;5;28;01melif\u001b[39;00m event\u001b[38;5;241m==\u001b[39mcv2\u001b[38;5;241m.\u001b[39mEVENT_MOUSEMOVE:\n\u001b[1;32m---> 14\u001b[0m     cv2\u001b[38;5;241m.\u001b[39mputText(img,\u001b[38;5;124;43m'\u001b[39;49m\u001b[38;5;124;43mMouse Position\u001b[39;49m\u001b[38;5;124;43m'\u001b[39;49m\u001b[38;5;241;43m+\u001b[39;49m\u001b[43mix\u001b[49m\u001b[38;5;241m+\u001b[39m\u001b[38;5;124m'\u001b[39m\u001b[38;5;124m ,\u001b[39m\u001b[38;5;124m'\u001b[39m\u001b[38;5;241m+\u001b[39miy,(\u001b[38;5;241m10\u001b[39m,\u001b[38;5;241m50\u001b[39m), font, \u001b[38;5;241m1\u001b[39m,(\u001b[38;5;241m255\u001b[39m,\u001b[38;5;241m255\u001b[39m,\u001b[38;5;241m255\u001b[39m),\u001b[38;5;241m0.7\u001b[39m,cv2\u001b[38;5;241m.\u001b[39mLINE_AA)\n\u001b[0;32m     15\u001b[0m     \u001b[38;5;28;01mif\u001b[39;00m drawing\u001b[38;5;241m==\u001b[39m\u001b[38;5;28;01mTrue\u001b[39;00m:\n\u001b[0;32m     16\u001b[0m         \u001b[38;5;28;01mif\u001b[39;00m mode\u001b[38;5;241m==\u001b[39m \u001b[38;5;28;01mTrue\u001b[39;00m:\n",
      "\u001b[1;31mTypeError\u001b[0m: can only concatenate str (not \"int\") to str"
     ]
    },
    {
     "ename": "TypeError",
     "evalue": "can only concatenate str (not \"int\") to str",
     "output_type": "error",
     "traceback": [
      "\u001b[1;31m---------------------------------------------------------------------------\u001b[0m",
      "\u001b[1;31mTypeError\u001b[0m                                 Traceback (most recent call last)",
      "Cell \u001b[1;32mIn[4], line 14\u001b[0m, in \u001b[0;36mdraw_circle\u001b[1;34m(event, x, y, flags, param)\u001b[0m\n\u001b[0;32m     12\u001b[0m     ix,iy\u001b[38;5;241m=\u001b[39mx,y\n\u001b[0;32m     13\u001b[0m \u001b[38;5;28;01melif\u001b[39;00m event\u001b[38;5;241m==\u001b[39mcv2\u001b[38;5;241m.\u001b[39mEVENT_MOUSEMOVE:\n\u001b[1;32m---> 14\u001b[0m     cv2\u001b[38;5;241m.\u001b[39mputText(img,\u001b[38;5;124;43m'\u001b[39;49m\u001b[38;5;124;43mMouse Position\u001b[39;49m\u001b[38;5;124;43m'\u001b[39;49m\u001b[38;5;241;43m+\u001b[39;49m\u001b[43mix\u001b[49m\u001b[38;5;241m+\u001b[39m\u001b[38;5;124m'\u001b[39m\u001b[38;5;124m ,\u001b[39m\u001b[38;5;124m'\u001b[39m\u001b[38;5;241m+\u001b[39miy,(\u001b[38;5;241m10\u001b[39m,\u001b[38;5;241m50\u001b[39m), font, \u001b[38;5;241m1\u001b[39m,(\u001b[38;5;241m255\u001b[39m,\u001b[38;5;241m255\u001b[39m,\u001b[38;5;241m255\u001b[39m),\u001b[38;5;241m0.7\u001b[39m,cv2\u001b[38;5;241m.\u001b[39mLINE_AA)\n\u001b[0;32m     15\u001b[0m     \u001b[38;5;28;01mif\u001b[39;00m drawing\u001b[38;5;241m==\u001b[39m\u001b[38;5;28;01mTrue\u001b[39;00m:\n\u001b[0;32m     16\u001b[0m         \u001b[38;5;28;01mif\u001b[39;00m mode\u001b[38;5;241m==\u001b[39m \u001b[38;5;28;01mTrue\u001b[39;00m:\n",
      "\u001b[1;31mTypeError\u001b[0m: can only concatenate str (not \"int\") to str"
     ]
    },
    {
     "ename": "TypeError",
     "evalue": "can only concatenate str (not \"int\") to str",
     "output_type": "error",
     "traceback": [
      "\u001b[1;31m---------------------------------------------------------------------------\u001b[0m",
      "\u001b[1;31mTypeError\u001b[0m                                 Traceback (most recent call last)",
      "Cell \u001b[1;32mIn[4], line 14\u001b[0m, in \u001b[0;36mdraw_circle\u001b[1;34m(event, x, y, flags, param)\u001b[0m\n\u001b[0;32m     12\u001b[0m     ix,iy\u001b[38;5;241m=\u001b[39mx,y\n\u001b[0;32m     13\u001b[0m \u001b[38;5;28;01melif\u001b[39;00m event\u001b[38;5;241m==\u001b[39mcv2\u001b[38;5;241m.\u001b[39mEVENT_MOUSEMOVE:\n\u001b[1;32m---> 14\u001b[0m     cv2\u001b[38;5;241m.\u001b[39mputText(img,\u001b[38;5;124;43m'\u001b[39;49m\u001b[38;5;124;43mMouse Position\u001b[39;49m\u001b[38;5;124;43m'\u001b[39;49m\u001b[38;5;241;43m+\u001b[39;49m\u001b[43mix\u001b[49m\u001b[38;5;241m+\u001b[39m\u001b[38;5;124m'\u001b[39m\u001b[38;5;124m ,\u001b[39m\u001b[38;5;124m'\u001b[39m\u001b[38;5;241m+\u001b[39miy,(\u001b[38;5;241m10\u001b[39m,\u001b[38;5;241m50\u001b[39m), font, \u001b[38;5;241m1\u001b[39m,(\u001b[38;5;241m255\u001b[39m,\u001b[38;5;241m255\u001b[39m,\u001b[38;5;241m255\u001b[39m),\u001b[38;5;241m0.7\u001b[39m,cv2\u001b[38;5;241m.\u001b[39mLINE_AA)\n\u001b[0;32m     15\u001b[0m     \u001b[38;5;28;01mif\u001b[39;00m drawing\u001b[38;5;241m==\u001b[39m\u001b[38;5;28;01mTrue\u001b[39;00m:\n\u001b[0;32m     16\u001b[0m         \u001b[38;5;28;01mif\u001b[39;00m mode\u001b[38;5;241m==\u001b[39m \u001b[38;5;28;01mTrue\u001b[39;00m:\n",
      "\u001b[1;31mTypeError\u001b[0m: can only concatenate str (not \"int\") to str"
     ]
    },
    {
     "ename": "TypeError",
     "evalue": "can only concatenate str (not \"int\") to str",
     "output_type": "error",
     "traceback": [
      "\u001b[1;31m---------------------------------------------------------------------------\u001b[0m",
      "\u001b[1;31mTypeError\u001b[0m                                 Traceback (most recent call last)",
      "Cell \u001b[1;32mIn[4], line 14\u001b[0m, in \u001b[0;36mdraw_circle\u001b[1;34m(event, x, y, flags, param)\u001b[0m\n\u001b[0;32m     12\u001b[0m     ix,iy\u001b[38;5;241m=\u001b[39mx,y\n\u001b[0;32m     13\u001b[0m \u001b[38;5;28;01melif\u001b[39;00m event\u001b[38;5;241m==\u001b[39mcv2\u001b[38;5;241m.\u001b[39mEVENT_MOUSEMOVE:\n\u001b[1;32m---> 14\u001b[0m     cv2\u001b[38;5;241m.\u001b[39mputText(img,\u001b[38;5;124;43m'\u001b[39;49m\u001b[38;5;124;43mMouse Position\u001b[39;49m\u001b[38;5;124;43m'\u001b[39;49m\u001b[38;5;241;43m+\u001b[39;49m\u001b[43mix\u001b[49m\u001b[38;5;241m+\u001b[39m\u001b[38;5;124m'\u001b[39m\u001b[38;5;124m ,\u001b[39m\u001b[38;5;124m'\u001b[39m\u001b[38;5;241m+\u001b[39miy,(\u001b[38;5;241m10\u001b[39m,\u001b[38;5;241m50\u001b[39m), font, \u001b[38;5;241m1\u001b[39m,(\u001b[38;5;241m255\u001b[39m,\u001b[38;5;241m255\u001b[39m,\u001b[38;5;241m255\u001b[39m),\u001b[38;5;241m0.7\u001b[39m,cv2\u001b[38;5;241m.\u001b[39mLINE_AA)\n\u001b[0;32m     15\u001b[0m     \u001b[38;5;28;01mif\u001b[39;00m drawing\u001b[38;5;241m==\u001b[39m\u001b[38;5;28;01mTrue\u001b[39;00m:\n\u001b[0;32m     16\u001b[0m         \u001b[38;5;28;01mif\u001b[39;00m mode\u001b[38;5;241m==\u001b[39m \u001b[38;5;28;01mTrue\u001b[39;00m:\n",
      "\u001b[1;31mTypeError\u001b[0m: can only concatenate str (not \"int\") to str"
     ]
    },
    {
     "ename": "TypeError",
     "evalue": "can only concatenate str (not \"int\") to str",
     "output_type": "error",
     "traceback": [
      "\u001b[1;31m---------------------------------------------------------------------------\u001b[0m",
      "\u001b[1;31mTypeError\u001b[0m                                 Traceback (most recent call last)",
      "Cell \u001b[1;32mIn[4], line 14\u001b[0m, in \u001b[0;36mdraw_circle\u001b[1;34m(event, x, y, flags, param)\u001b[0m\n\u001b[0;32m     12\u001b[0m     ix,iy\u001b[38;5;241m=\u001b[39mx,y\n\u001b[0;32m     13\u001b[0m \u001b[38;5;28;01melif\u001b[39;00m event\u001b[38;5;241m==\u001b[39mcv2\u001b[38;5;241m.\u001b[39mEVENT_MOUSEMOVE:\n\u001b[1;32m---> 14\u001b[0m     cv2\u001b[38;5;241m.\u001b[39mputText(img,\u001b[38;5;124;43m'\u001b[39;49m\u001b[38;5;124;43mMouse Position\u001b[39;49m\u001b[38;5;124;43m'\u001b[39;49m\u001b[38;5;241;43m+\u001b[39;49m\u001b[43mix\u001b[49m\u001b[38;5;241m+\u001b[39m\u001b[38;5;124m'\u001b[39m\u001b[38;5;124m ,\u001b[39m\u001b[38;5;124m'\u001b[39m\u001b[38;5;241m+\u001b[39miy,(\u001b[38;5;241m10\u001b[39m,\u001b[38;5;241m50\u001b[39m), font, \u001b[38;5;241m1\u001b[39m,(\u001b[38;5;241m255\u001b[39m,\u001b[38;5;241m255\u001b[39m,\u001b[38;5;241m255\u001b[39m),\u001b[38;5;241m0.7\u001b[39m,cv2\u001b[38;5;241m.\u001b[39mLINE_AA)\n\u001b[0;32m     15\u001b[0m     \u001b[38;5;28;01mif\u001b[39;00m drawing\u001b[38;5;241m==\u001b[39m\u001b[38;5;28;01mTrue\u001b[39;00m:\n\u001b[0;32m     16\u001b[0m         \u001b[38;5;28;01mif\u001b[39;00m mode\u001b[38;5;241m==\u001b[39m \u001b[38;5;28;01mTrue\u001b[39;00m:\n",
      "\u001b[1;31mTypeError\u001b[0m: can only concatenate str (not \"int\") to str"
     ]
    },
    {
     "ename": "TypeError",
     "evalue": "can only concatenate str (not \"int\") to str",
     "output_type": "error",
     "traceback": [
      "\u001b[1;31m---------------------------------------------------------------------------\u001b[0m",
      "\u001b[1;31mTypeError\u001b[0m                                 Traceback (most recent call last)",
      "Cell \u001b[1;32mIn[4], line 14\u001b[0m, in \u001b[0;36mdraw_circle\u001b[1;34m(event, x, y, flags, param)\u001b[0m\n\u001b[0;32m     12\u001b[0m     ix,iy\u001b[38;5;241m=\u001b[39mx,y\n\u001b[0;32m     13\u001b[0m \u001b[38;5;28;01melif\u001b[39;00m event\u001b[38;5;241m==\u001b[39mcv2\u001b[38;5;241m.\u001b[39mEVENT_MOUSEMOVE:\n\u001b[1;32m---> 14\u001b[0m     cv2\u001b[38;5;241m.\u001b[39mputText(img,\u001b[38;5;124;43m'\u001b[39;49m\u001b[38;5;124;43mMouse Position\u001b[39;49m\u001b[38;5;124;43m'\u001b[39;49m\u001b[38;5;241;43m+\u001b[39;49m\u001b[43mix\u001b[49m\u001b[38;5;241m+\u001b[39m\u001b[38;5;124m'\u001b[39m\u001b[38;5;124m ,\u001b[39m\u001b[38;5;124m'\u001b[39m\u001b[38;5;241m+\u001b[39miy,(\u001b[38;5;241m10\u001b[39m,\u001b[38;5;241m50\u001b[39m), font, \u001b[38;5;241m1\u001b[39m,(\u001b[38;5;241m255\u001b[39m,\u001b[38;5;241m255\u001b[39m,\u001b[38;5;241m255\u001b[39m),\u001b[38;5;241m0.7\u001b[39m,cv2\u001b[38;5;241m.\u001b[39mLINE_AA)\n\u001b[0;32m     15\u001b[0m     \u001b[38;5;28;01mif\u001b[39;00m drawing\u001b[38;5;241m==\u001b[39m\u001b[38;5;28;01mTrue\u001b[39;00m:\n\u001b[0;32m     16\u001b[0m         \u001b[38;5;28;01mif\u001b[39;00m mode\u001b[38;5;241m==\u001b[39m \u001b[38;5;28;01mTrue\u001b[39;00m:\n",
      "\u001b[1;31mTypeError\u001b[0m: can only concatenate str (not \"int\") to str"
     ]
    }
   ],
   "source": [
    "img = cv2.imread('messi5.jpg')\n",
    "cv2.namedWindow('image')\n",
    "cv2.setMouseCallback('image',draw_circle)\n",
    "while(1):\n",
    "    cv2.imshow('image',img)\n",
    "    k=cv2.waitKey(1)&0xFF\n",
    "    if k== ord('m'):\n",
    "        mode=not mode\n",
    "    elif k==27:\n",
    "        break\n",
    "cv2.destroyAllWindows()"
   ]
  },
  {
   "cell_type": "code",
   "execution_count": null,
   "metadata": {},
   "outputs": [],
   "source": []
  }
 ],
 "metadata": {
  "kernelspec": {
   "display_name": "IP2024",
   "language": "python",
   "name": "python3"
  },
  "language_info": {
   "codemirror_mode": {
    "name": "ipython",
    "version": 3
   },
   "file_extension": ".py",
   "mimetype": "text/x-python",
   "name": "python",
   "nbconvert_exporter": "python",
   "pygments_lexer": "ipython3",
   "version": "3.8.19"
  }
 },
 "nbformat": 4,
 "nbformat_minor": 2
}
